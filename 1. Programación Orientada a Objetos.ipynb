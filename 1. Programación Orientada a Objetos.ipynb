{
 "cells": [
  {
   "cell_type": "markdown",
   "metadata": {},
   "source": [
    "# Tipos de datos abstractos y clases, Instancias"
   ]
  },
  {
   "cell_type": "code",
   "execution_count": 1,
   "metadata": {},
   "outputs": [],
   "source": [
    "class Persona:\n",
    "    \n",
    "    def __init__(self, nombre, edad):\n",
    "        self.nombre = nombre\n",
    "        self.edad = edad\n",
    "        \n",
    "    def saluda(self, otra_persona):\n",
    "        return f'Hola {otra_persona.nombre} me llamo {self.nombre}'"
   ]
  },
  {
   "cell_type": "code",
   "execution_count": 3,
   "metadata": {},
   "outputs": [],
   "source": [
    "luifer = Persona('luifer', 35)\n",
    "larisa = Persona('larissa',32)"
   ]
  },
  {
   "cell_type": "code",
   "execution_count": 4,
   "metadata": {},
   "outputs": [
    {
     "data": {
      "text/plain": [
       "'Hola larissa me llamo luifer'"
      ]
     },
     "execution_count": 4,
     "metadata": {},
     "output_type": "execute_result"
    }
   ],
   "source": [
    "luifer.saluda(larisa)"
   ]
  },
  {
   "cell_type": "code",
   "execution_count": 5,
   "metadata": {},
   "outputs": [],
   "source": [
    "class Coordenada:\n",
    "    def __init__(self, x, y):\n",
    "        self.x = x\n",
    "        self.y = y\n",
    "        \n",
    "    def distancia(self, otra_coordenada):\n",
    "        x_diff = (self.x - otra_coordenada.x)**2\n",
    "        y_diff = (self.y - otra_coordenada.y)**2\n",
    "        \n",
    "        return (x_diff + y_diff)**0.5"
   ]
  },
  {
   "cell_type": "code",
   "execution_count": 6,
   "metadata": {},
   "outputs": [],
   "source": [
    "coord1 = Coordenada(3, 30)\n",
    "coord2 = Coordenada(4, 8)"
   ]
  },
  {
   "cell_type": "code",
   "execution_count": 7,
   "metadata": {},
   "outputs": [
    {
     "data": {
      "text/plain": [
       "22.02271554554524"
      ]
     },
     "execution_count": 7,
     "metadata": {},
     "output_type": "execute_result"
    }
   ],
   "source": [
    "coord1.distancia(coord2)"
   ]
  },
  {
   "cell_type": "code",
   "execution_count": 9,
   "metadata": {},
   "outputs": [
    {
     "data": {
      "text/plain": [
       "True"
      ]
     },
     "execution_count": 9,
     "metadata": {},
     "output_type": "execute_result"
    }
   ],
   "source": [
    "isinstance(coord2, Coordenada)"
   ]
  },
  {
   "cell_type": "markdown",
   "metadata": {},
   "source": [
    "# Decomposición\n",
    "- Partir un problema en problemas más pequeños\n",
    "- Las clases permiten crear mayores abstracciones en forma de componentes\n",
    "- Cada clase se encarga de una parte del problema y el programa se vuelve más fácil de mantener"
   ]
  },
  {
   "cell_type": "code",
   "execution_count": 10,
   "metadata": {},
   "outputs": [],
   "source": [
    "class Automovil:\n",
    "    \n",
    "    def __init__(self, modelo, marca, color):\n",
    "        self.modelo = modelo\n",
    "        self.marca = marca\n",
    "        self.color = color\n",
    "        self._estado = 'en_reposo'\n",
    "        self._motor = Motor(cilindros=4)\n",
    "    \n",
    "    def acelerar(self, tipo='despacio'):\n",
    "        if tipo == 'rapida':\n",
    "            self._motor.inyectar_gasolina(10)\n",
    "        else:\n",
    "            self._motor.inyectar_gasolina(3)\n",
    "        \n",
    "        self._estado = 'en_movimiento'\n",
    "        \n",
    "class Motor:\n",
    "    \n",
    "    def __init__(self, cilindros, tipo='gasolina'):\n",
    "        self.cilindros = cilindros\n",
    "        self.tipo = tipo \n",
    "        self._temperatura = 0\n",
    "    \n",
    "    def inyectar_gasolina(self, cantidad):\n",
    "        pass"
   ]
  },
  {
   "cell_type": "markdown",
   "metadata": {},
   "source": [
    "# Abstracción \n",
    "- Enfocarnos en la información relevante.\n",
    "- Separar la información central de los detalles secundarios.\n",
    "- Podemos utilizar variables y metodos (privados o públicos)."
   ]
  },
  {
   "cell_type": "code",
   "execution_count": 11,
   "metadata": {},
   "outputs": [],
   "source": [
    "class Lavadora:\n",
    "    \n",
    "    def __init__(self):\n",
    "        pass\n",
    "    \n",
    "    def lavar(self, temperatura='caliente'):\n",
    "        self._llenar_tanque_de_agua(temperatura)\n",
    "        self._añadir_jabon()\n",
    "        self._lavar()\n",
    "        self._centrifugar()\n",
    "        \n",
    "    def _llenar_tanque_de_agua(self, temperatura):\n",
    "        print(f'Llenado el tanque con agua {temperatura}')\n",
    "        \n",
    "    def _añadir_jabon(self):\n",
    "        print('Añadiendo jabon')\n",
    "        \n",
    "    def _lavar(self):\n",
    "        print('Lavando la ropa')\n",
    "        \n",
    "    def _centrifugar(self):\n",
    "        print('Centrifugando la ropa')"
   ]
  },
  {
   "cell_type": "code",
   "execution_count": 12,
   "metadata": {},
   "outputs": [
    {
     "name": "stdout",
     "output_type": "stream",
     "text": [
      "Llenado el tanque con agua caliente\n",
      "Añadiendo jabon\n",
      "Lavando la ropa\n",
      "Centrifugando la ropa\n"
     ]
    }
   ],
   "source": [
    "lavadora = Lavadora()\n",
    "lavadora.lavar()"
   ]
  },
  {
   "cell_type": "markdown",
   "metadata": {},
   "source": [
    "# Encapsulación, getters and setters\n",
    "- Permite agrupar datos y su comportamiento.\n",
    "- Controla el acceso de dichos datos.\n",
    "- Previen modificaciones no autorizadas"
   ]
  },
  {
   "cell_type": "markdown",
   "metadata": {},
   "source": [
    "- **Getter**: Se encargará de interceptar la lectura del atributo (get = obtener)\n",
    "- **Setter**: Se encarga de interceptar cuando se escriba (set = definir o escribir)"
   ]
  },
  {
   "cell_type": "markdown",
   "metadata": {},
   "source": [
    "# Herencia\n",
    "- Permite modelar una jerarquía de clases\n",
    "- Permite compartir comportamiento común en la jerarquía \n",
    "- Al padre se se le conoce como superclase y al hijo como subclase"
   ]
  },
  {
   "cell_type": "code",
   "execution_count": 3,
   "metadata": {},
   "outputs": [],
   "source": [
    "class Rectangulo:\n",
    "    \n",
    "    def __init__(self, base, altura):\n",
    "        self.base = base\n",
    "        self.altura = altura\n",
    "        \n",
    "    def area(self):\n",
    "        return self.base * self.altura\n",
    "    \n",
    "class Cuadrado(Rectangulo):\n",
    "    \n",
    "    def __init__(self, lado):\n",
    "        super().__init__(lado, lado)"
   ]
  },
  {
   "cell_type": "code",
   "execution_count": 4,
   "metadata": {},
   "outputs": [
    {
     "data": {
      "text/plain": [
       "12"
      ]
     },
     "execution_count": 4,
     "metadata": {},
     "output_type": "execute_result"
    }
   ],
   "source": [
    "rectangulo = Rectangulo(base=3, altura=4)\n",
    "rectangulo.area()"
   ]
  },
  {
   "cell_type": "code",
   "execution_count": 5,
   "metadata": {},
   "outputs": [
    {
     "data": {
      "text/plain": [
       "25"
      ]
     },
     "execution_count": 5,
     "metadata": {},
     "output_type": "execute_result"
    }
   ],
   "source": [
    "cuadrado = Cuadrado(lado=5)\n",
    "cuadrado.area()"
   ]
  },
  {
   "cell_type": "markdown",
   "metadata": {},
   "source": [
    "# Polimorfismo\n",
    "- La habilidad de tomar varias formas\n",
    "- En python, nos permite cambiar el comportamiento de una superclase para adaptarlo a la subclase"
   ]
  },
  {
   "cell_type": "code",
   "execution_count": 8,
   "metadata": {},
   "outputs": [],
   "source": [
    "class Persona:\n",
    "    \n",
    "    def __init__(self, nombre):\n",
    "        self.nombre = nombre\n",
    "        \n",
    "    def avanza(self):\n",
    "        print('Ando caminando')\n",
    "        \n",
    "        \n",
    "class Ciclista(Persona):\n",
    "    \n",
    "    def __init__(self, nombre):\n",
    "        super().__init__(nombre)\n",
    "        \n",
    "    def avanza(self):\n",
    "        print('Ando moviendome en mi bicicleta')\n",
    "\n",
    "def main():\n",
    "    persona = Persona('David')\n",
    "    persona.avanza()\n",
    "    \n",
    "    ciclista = Ciclista('Daniel')\n",
    "    ciclista.avanza()"
   ]
  },
  {
   "cell_type": "code",
   "execution_count": 9,
   "metadata": {},
   "outputs": [
    {
     "name": "stdout",
     "output_type": "stream",
     "text": [
      "Ando caminando\n",
      "Ando moviendome en mi bicicleta\n"
     ]
    }
   ],
   "source": [
    "main()"
   ]
  },
  {
   "cell_type": "markdown",
   "metadata": {},
   "source": []
  }
 ],
 "metadata": {
  "kernelspec": {
   "display_name": "Python 3",
   "language": "python",
   "name": "python3"
  },
  "language_info": {
   "codemirror_mode": {
    "name": "ipython",
    "version": 3
   },
   "file_extension": ".py",
   "mimetype": "text/x-python",
   "name": "python",
   "nbconvert_exporter": "python",
   "pygments_lexer": "ipython3",
   "version": "3.7.4"
  }
 },
 "nbformat": 4,
 "nbformat_minor": 2
}
