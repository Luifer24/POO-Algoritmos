{
 "cells": [
  {
   "cell_type": "code",
   "execution_count": 8,
   "metadata": {},
   "outputs": [],
   "source": [
    "class Persona:\n",
    "    \n",
    "    def __init__(self, nombre, edad):\n",
    "        self.nombre = nombre\n",
    "        self.edad = edad\n",
    "        \n",
    "    def saluda(self, otra_persona):\n",
    "        return f'Hola {otra_persona.nombre} me llamo {self.nombre}'"
   ]
  },
  {
   "cell_type": "code",
   "execution_count": 9,
   "metadata": {},
   "outputs": [],
   "source": [
    "luifer = Persona('luifer', 25)\n",
    "larisa = Persona('larisa', 21)"
   ]
  },
  {
   "cell_type": "code",
   "execution_count": 10,
   "metadata": {},
   "outputs": [
    {
     "data": {
      "text/plain": [
       "25"
      ]
     },
     "execution_count": 10,
     "metadata": {},
     "output_type": "execute_result"
    }
   ],
   "source": [
    "luifer.edad"
   ]
  },
  {
   "cell_type": "code",
   "execution_count": 11,
   "metadata": {},
   "outputs": [
    {
     "data": {
      "text/plain": [
       "21"
      ]
     },
     "execution_count": 11,
     "metadata": {},
     "output_type": "execute_result"
    }
   ],
   "source": [
    "larisa.edad"
   ]
  },
  {
   "cell_type": "code",
   "execution_count": 12,
   "metadata": {},
   "outputs": [
    {
     "data": {
      "text/plain": [
       "'Hola larisa me llamo luifer'"
      ]
     },
     "execution_count": 12,
     "metadata": {},
     "output_type": "execute_result"
    }
   ],
   "source": [
    "luifer.saluda(larisa)"
   ]
  },
  {
   "cell_type": "code",
   "execution_count": 13,
   "metadata": {},
   "outputs": [],
   "source": [
    "class Persona:\n",
    "    \n",
    "    def __init__(self, nombre, edad):\n",
    "        self.nombre = nombre\n",
    "        self.edad = edad\n",
    "        \n",
    "    def saludar(self, otra_pesona):\n",
    "        return f'Hola {otra_persona.nombre} me llamo {self.nombre}'"
   ]
  },
  {
   "cell_type": "code",
   "execution_count": 14,
   "metadata": {},
   "outputs": [],
   "source": [
    "lufer = Persona('luifer', 25)\n",
    "larisa = Persona('Larisa', 21)"
   ]
  },
  {
   "cell_type": "code",
   "execution_count": 15,
   "metadata": {},
   "outputs": [
    {
     "data": {
      "text/plain": [
       "25"
      ]
     },
     "execution_count": 15,
     "metadata": {},
     "output_type": "execute_result"
    }
   ],
   "source": [
    "luifer.edad"
   ]
  },
  {
   "cell_type": "code",
   "execution_count": 16,
   "metadata": {},
   "outputs": [
    {
     "data": {
      "text/plain": [
       "'luifer'"
      ]
     },
     "execution_count": 16,
     "metadata": {},
     "output_type": "execute_result"
    }
   ],
   "source": [
    "luifer.nombre"
   ]
  },
  {
   "cell_type": "code",
   "execution_count": 17,
   "metadata": {},
   "outputs": [
    {
     "data": {
      "text/plain": [
       "'Hola Larisa me llamo luifer'"
      ]
     },
     "execution_count": 17,
     "metadata": {},
     "output_type": "execute_result"
    }
   ],
   "source": [
    "luifer.saluda(larisa)"
   ]
  },
  {
   "cell_type": "code",
   "execution_count": 25,
   "metadata": {},
   "outputs": [],
   "source": [
    "class Coordenada:\n",
    "    \n",
    "    def __init__(self, x, y):\n",
    "        self.x = x\n",
    "        self.y = y\n",
    "        \n",
    "    def distancia(self, otra_coordenada):\n",
    "        x_diff = (self.x - otra_coordenada.x)**2\n",
    "        y_diff = (self.y - otra_coordenada.y)**2\n",
    "        \n",
    "        return (x_diff + y_diff)** 0.5"
   ]
  },
  {
   "cell_type": "code",
   "execution_count": 26,
   "metadata": {},
   "outputs": [],
   "source": [
    "cord1 = Coordenada(3,4)\n",
    "cord2 = Coordenada(2,6)"
   ]
  },
  {
   "cell_type": "code",
   "execution_count": 27,
   "metadata": {},
   "outputs": [
    {
     "data": {
      "text/plain": [
       "2.23606797749979"
      ]
     },
     "execution_count": 27,
     "metadata": {},
     "output_type": "execute_result"
    }
   ],
   "source": [
    "cord1.distancia(cord2)"
   ]
  },
  {
   "cell_type": "code",
   "execution_count": 28,
   "metadata": {},
   "outputs": [],
   "source": [
    "def suma(a,b):\n",
    "    return a+b"
   ]
  },
  {
   "cell_type": "code",
   "execution_count": 29,
   "metadata": {},
   "outputs": [
    {
     "data": {
      "text/plain": [
       "5"
      ]
     },
     "execution_count": 29,
     "metadata": {},
     "output_type": "execute_result"
    }
   ],
   "source": [
    "suma(2,3)"
   ]
  },
  {
   "cell_type": "code",
   "execution_count": 30,
   "metadata": {},
   "outputs": [
    {
     "data": {
      "text/plain": [
       "3"
      ]
     },
     "execution_count": 30,
     "metadata": {},
     "output_type": "execute_result"
    }
   ],
   "source": [
    "cord1.x"
   ]
  },
  {
   "cell_type": "code",
   "execution_count": 31,
   "metadata": {},
   "outputs": [
    {
     "data": {
      "text/plain": [
       "4"
      ]
     },
     "execution_count": 31,
     "metadata": {},
     "output_type": "execute_result"
    }
   ],
   "source": [
    "cord1.y"
   ]
  },
  {
   "cell_type": "code",
   "execution_count": 32,
   "metadata": {},
   "outputs": [
    {
     "data": {
      "text/plain": [
       "2"
      ]
     },
     "execution_count": 32,
     "metadata": {},
     "output_type": "execute_result"
    }
   ],
   "source": [
    "cord2.x"
   ]
  },
  {
   "cell_type": "code",
   "execution_count": 33,
   "metadata": {},
   "outputs": [
    {
     "data": {
      "text/plain": [
       "6"
      ]
     },
     "execution_count": 33,
     "metadata": {},
     "output_type": "execute_result"
    }
   ],
   "source": [
    "cord2.y"
   ]
  },
  {
   "cell_type": "code",
   "execution_count": 34,
   "metadata": {},
   "outputs": [],
   "source": [
    "class Coodenadas:\n",
    "    \n",
    "    def __init__(self, x, y):\n",
    "        self.x = x\n",
    "        self.y = y\n",
    "        \n",
    "    def distancia(self, otra_coordenada):\n",
    "        x_diff = (self.x - otra_coordenada.x)**2\n",
    "        y_diff = (self.y - otra_coordenada.y)**2\n",
    "        \n",
    "        return (x_diff + y_diff)**0.5"
   ]
  },
  {
   "cell_type": "code",
   "execution_count": 35,
   "metadata": {},
   "outputs": [],
   "source": [
    "cord1 = Coordenada(3,7)\n",
    "cord2 = Coordenada(5,8)"
   ]
  },
  {
   "cell_type": "code",
   "execution_count": 36,
   "metadata": {},
   "outputs": [
    {
     "data": {
      "text/plain": [
       "3"
      ]
     },
     "execution_count": 36,
     "metadata": {},
     "output_type": "execute_result"
    }
   ],
   "source": [
    "cord1.x"
   ]
  },
  {
   "cell_type": "code",
   "execution_count": 37,
   "metadata": {},
   "outputs": [
    {
     "data": {
      "text/plain": [
       "7"
      ]
     },
     "execution_count": 37,
     "metadata": {},
     "output_type": "execute_result"
    }
   ],
   "source": [
    "cord1.y"
   ]
  },
  {
   "cell_type": "code",
   "execution_count": 38,
   "metadata": {},
   "outputs": [
    {
     "data": {
      "text/plain": [
       "2.23606797749979"
      ]
     },
     "execution_count": 38,
     "metadata": {},
     "output_type": "execute_result"
    }
   ],
   "source": [
    "cord1.distancia(cord2)"
   ]
  },
  {
   "cell_type": "code",
   "execution_count": 39,
   "metadata": {},
   "outputs": [],
   "source": [
    "class Automovil:\n",
    "    \n",
    "    def __init__(self, modelo, marca, color):\n",
    "        self.modelo = modelo\n",
    "        self.marca = marca\n",
    "        self.color = color\n",
    "        self._estado = 'en_reposo'\n",
    "        self._motor = Motor(cilindros=4)\n",
    "        \n",
    "    def acelerar(self, tipo='despacio'):\n",
    "        if tipo == 'rapida':\n",
    "            self._motor.inyectar_gasolina(10)\n",
    "        else:\n",
    "            self._motor.inyectar_gasolina(3)\n",
    "            \n",
    "        self._estado = 'en_movimiento'\n",
    "        \n",
    "class Motor:\n",
    "    \n",
    "    def __init__(self, cilindros, tipo='gasolina'):\n",
    "        self.cilindros = cilindros\n",
    "        self.tipo = tipo\n",
    "        self._temperatura = 0\n",
    "    \n",
    "    def inyectar_gasolina(self, cantidad):\n",
    "        pass"
   ]
  },
  {
   "cell_type": "code",
   "execution_count": 40,
   "metadata": {},
   "outputs": [],
   "source": [
    "coche = Automovil('mustang', 'ford', 'negro')"
   ]
  },
  {
   "cell_type": "code",
   "execution_count": 41,
   "metadata": {},
   "outputs": [
    {
     "data": {
      "text/plain": [
       "'mustang'"
      ]
     },
     "execution_count": 41,
     "metadata": {},
     "output_type": "execute_result"
    }
   ],
   "source": [
    "coche.modelo"
   ]
  },
  {
   "cell_type": "code",
   "execution_count": 45,
   "metadata": {},
   "outputs": [
    {
     "ename": "AttributeError",
     "evalue": "'function' object has no attribute 'tipo'",
     "output_type": "error",
     "traceback": [
      "\u001b[1;31m---------------------------------------------------------------------------\u001b[0m",
      "\u001b[1;31mAttributeError\u001b[0m                            Traceback (most recent call last)",
      "\u001b[1;32m<ipython-input-45-db7702ec0d06>\u001b[0m in \u001b[0;36m<module>\u001b[1;34m\u001b[0m\n\u001b[1;32m----> 1\u001b[1;33m \u001b[0mcoche\u001b[0m\u001b[1;33m.\u001b[0m\u001b[0macelerar\u001b[0m\u001b[1;33m.\u001b[0m\u001b[0mtipo\u001b[0m\u001b[1;33m\u001b[0m\u001b[1;33m\u001b[0m\u001b[0m\n\u001b[0m",
      "\u001b[1;31mAttributeError\u001b[0m: 'function' object has no attribute 'tipo'"
     ]
    }
   ],
   "source": [
    "coche.acelerar.tipo"
   ]
  },
  {
   "cell_type": "code",
   "execution_count": 46,
   "metadata": {},
   "outputs": [],
   "source": [
    "class Lavadora:\n",
    "    \n",
    "    def __init__(self):\n",
    "        pass\n",
    "    \n",
    "    def lavar(self, temperatura='caliente'):\n",
    "        self._llenar_tanque_de_agua(temperatura)\n",
    "        self._añadir_jabon()\n",
    "        self._lavar()\n",
    "        self._centrifugar()\n",
    "        \n",
    "    def _llenar_tanque_de_agua(self, temperatura):\n",
    "        print(f'Llenando el tanque con agua {temperatura}')\n",
    "        \n",
    "    def _añadir_jabon(self):\n",
    "        print('Añadir jabon')\n",
    "    \n",
    "    def _lavar(self):\n",
    "        print('Lavando la ropa')\n",
    "    \n",
    "    def _centrifugar(self):\n",
    "        print('Centrifugando la ropa')"
   ]
  },
  {
   "cell_type": "code",
   "execution_count": 47,
   "metadata": {},
   "outputs": [],
   "source": [
    "lavadora = Lavadora()"
   ]
  },
  {
   "cell_type": "code",
   "execution_count": 48,
   "metadata": {},
   "outputs": [
    {
     "name": "stdout",
     "output_type": "stream",
     "text": [
      "Llenando el tanque con agua caliente\n",
      "Añadir jabon\n",
      "Lavando la ropa\n",
      "Centrifugando la ropa\n"
     ]
    }
   ],
   "source": [
    "lavadora.lavar()"
   ]
  },
  {
   "cell_type": "code",
   "execution_count": 49,
   "metadata": {},
   "outputs": [],
   "source": [
    "class Lavadora:\n",
    "    def __init__(self):\n",
    "        pass\n",
    "    \n",
    "    def lavar(self, temperatura):\n",
    "        self.temperatura = temperatura\n",
    "        self._llenar_tanque_de_agua(temperatura)\n",
    "        self._añadir_jabon()\n",
    "        self._lavar()\n",
    "        self._centrifugar()\n",
    "        \n",
    "    def _llenar_tanque_de_agua(self, temperatura):\n",
    "        print(f'Llenando el tanque con agua {temperatura}')\n",
    "    \n",
    "    def _añadir_jabon(self):\n",
    "        print('añdiendo jabon')\n",
    "        \n",
    "    def _lavar(self):\n",
    "        print('Lavando la ropa')\n",
    "    \n",
    "    def _centrifugar(self):\n",
    "        print('Centrifugando la ropa')"
   ]
  },
  {
   "cell_type": "code",
   "execution_count": 50,
   "metadata": {},
   "outputs": [],
   "source": [
    "lavadora = Lavadora()"
   ]
  },
  {
   "cell_type": "code",
   "execution_count": 51,
   "metadata": {},
   "outputs": [
    {
     "name": "stdout",
     "output_type": "stream",
     "text": [
      "Llenando el tanque con agua fria\n",
      "añdiendo jabon\n",
      "Lavando la ropa\n",
      "Centrifugando la ropa\n"
     ]
    }
   ],
   "source": [
    "lavadora.lavar('fria')"
   ]
  },
  {
   "cell_type": "code",
   "execution_count": 52,
   "metadata": {},
   "outputs": [
    {
     "name": "stdout",
     "output_type": "stream",
     "text": [
      "Llenando el tanque con agua templada\n",
      "añdiendo jabon\n",
      "Lavando la ropa\n",
      "Centrifugando la ropa\n"
     ]
    }
   ],
   "source": [
    "lavadora.lavar('templada')"
   ]
  },
  {
   "cell_type": "code",
   "execution_count": 55,
   "metadata": {},
   "outputs": [
    {
     "name": "stdout",
     "output_type": "stream",
     "text": [
      "Llenando el tanque con agua caliente\n",
      "añdiendo jabon\n",
      "Lavando la ropa\n",
      "Centrifugando la ropa\n"
     ]
    }
   ],
   "source": [
    "lavadora.lavar('caliente')"
   ]
  },
  {
   "cell_type": "code",
   "execution_count": 67,
   "metadata": {},
   "outputs": [],
   "source": [
    "class Rectangulo:\n",
    "    \n",
    "    def __init__(self, base, altura):\n",
    "        self.base = base\n",
    "        self.altura = altura\n",
    "    \n",
    "    def area(self):\n",
    "        return self.base * self.altura\n",
    "\n",
    "class Cuadrado(Rectangulo):\n",
    "    \n",
    "    def __init__(self, lado):\n",
    "        self.lado = lado\n",
    "        super().__init__(lado, lado)"
   ]
  },
  {
   "cell_type": "code",
   "execution_count": 57,
   "metadata": {},
   "outputs": [],
   "source": [
    "rectangulo = Rectangulo(2, 5)"
   ]
  },
  {
   "cell_type": "code",
   "execution_count": 58,
   "metadata": {},
   "outputs": [
    {
     "data": {
      "text/plain": [
       "2"
      ]
     },
     "execution_count": 58,
     "metadata": {},
     "output_type": "execute_result"
    }
   ],
   "source": [
    "rectangulo.base"
   ]
  },
  {
   "cell_type": "code",
   "execution_count": 59,
   "metadata": {},
   "outputs": [
    {
     "data": {
      "text/plain": [
       "5"
      ]
     },
     "execution_count": 59,
     "metadata": {},
     "output_type": "execute_result"
    }
   ],
   "source": [
    "rectangulo.altura"
   ]
  },
  {
   "cell_type": "code",
   "execution_count": 61,
   "metadata": {},
   "outputs": [
    {
     "data": {
      "text/plain": [
       "10"
      ]
     },
     "execution_count": 61,
     "metadata": {},
     "output_type": "execute_result"
    }
   ],
   "source": [
    "rectangulo.area()"
   ]
  },
  {
   "cell_type": "code",
   "execution_count": 68,
   "metadata": {},
   "outputs": [],
   "source": [
    "cuadrado = Cuadrado(5)"
   ]
  },
  {
   "cell_type": "code",
   "execution_count": 69,
   "metadata": {},
   "outputs": [
    {
     "data": {
      "text/plain": [
       "5"
      ]
     },
     "execution_count": 69,
     "metadata": {},
     "output_type": "execute_result"
    }
   ],
   "source": [
    "cuadrado.lado"
   ]
  },
  {
   "cell_type": "code",
   "execution_count": 70,
   "metadata": {},
   "outputs": [
    {
     "data": {
      "text/plain": [
       "25"
      ]
     },
     "execution_count": 70,
     "metadata": {},
     "output_type": "execute_result"
    }
   ],
   "source": [
    "cuadrado.area()"
   ]
  },
  {
   "cell_type": "code",
   "execution_count": 76,
   "metadata": {},
   "outputs": [],
   "source": [
    "class Persona:\n",
    "    \n",
    "    def __init__(self, nombre):\n",
    "        self.nombre = nombre\n",
    "        \n",
    "    def avanza(self):\n",
    "        print('Ando caminando')\n",
    "        \n",
    "class Ciclista(Persona):\n",
    "     \n",
    "    def __init__(self, nombre):\n",
    "        super().__init__(nombre)\n",
    "        \n",
    "    def avanza(self):\n",
    "        print('Ando moviendome en bicicleta')"
   ]
  },
  {
   "cell_type": "code",
   "execution_count": 81,
   "metadata": {},
   "outputs": [],
   "source": [
    "persona = Persona('luifer')"
   ]
  },
  {
   "cell_type": "code",
   "execution_count": 77,
   "metadata": {},
   "outputs": [],
   "source": [
    "ciclista = Ciclista('kobe')"
   ]
  },
  {
   "cell_type": "code",
   "execution_count": 78,
   "metadata": {},
   "outputs": [
    {
     "data": {
      "text/plain": [
       "'luifer'"
      ]
     },
     "execution_count": 78,
     "metadata": {},
     "output_type": "execute_result"
    }
   ],
   "source": [
    "perosna.nombre"
   ]
  },
  {
   "cell_type": "code",
   "execution_count": 79,
   "metadata": {},
   "outputs": [
    {
     "data": {
      "text/plain": [
       "'kobe'"
      ]
     },
     "execution_count": 79,
     "metadata": {},
     "output_type": "execute_result"
    }
   ],
   "source": [
    "ciclista.nombre"
   ]
  },
  {
   "cell_type": "code",
   "execution_count": 82,
   "metadata": {},
   "outputs": [
    {
     "name": "stdout",
     "output_type": "stream",
     "text": [
      "Ando caminando\n"
     ]
    }
   ],
   "source": [
    "persona.avanza()"
   ]
  },
  {
   "cell_type": "code",
   "execution_count": 83,
   "metadata": {},
   "outputs": [
    {
     "name": "stdout",
     "output_type": "stream",
     "text": [
      "Ando moviendome en bicicleta\n"
     ]
    }
   ],
   "source": [
    "ciclista.avanza()"
   ]
  },
  {
   "cell_type": "code",
   "execution_count": 89,
   "metadata": {},
   "outputs": [],
   "source": [
    "def factorial(n):\n",
    "    respuesta=1\n",
    "    \n",
    "    while n > 1:\n",
    "        print(n)\n",
    "        respuesta *= n\n",
    "        print(respuesta)\n",
    "        n -= 1\n",
    "        print(n)\n",
    "        print('-'* 5)"
   ]
  },
  {
   "cell_type": "code",
   "execution_count": 90,
   "metadata": {},
   "outputs": [
    {
     "name": "stdout",
     "output_type": "stream",
     "text": [
      "4\n",
      "4\n",
      "3\n",
      "-----\n",
      "3\n",
      "12\n",
      "2\n",
      "-----\n",
      "2\n",
      "24\n",
      "1\n",
      "-----\n"
     ]
    }
   ],
   "source": [
    "factorial(4)"
   ]
  },
  {
   "cell_type": "code",
   "execution_count": 93,
   "metadata": {},
   "outputs": [
    {
     "name": "stdout",
     "output_type": "stream",
     "text": [
      "4\n",
      "12\n",
      "24\n"
     ]
    }
   ],
   "source": [
    "respuesta = 1\n",
    "n = 4\n",
    "while n > 1:\n",
    "    respuesta *= n\n",
    "    n -= 1\n",
    "    print(respuesta)"
   ]
  },
  {
   "cell_type": "code",
   "execution_count": 112,
   "metadata": {},
   "outputs": [],
   "source": [
    "def factorial(n):\n",
    "    if n==1:\n",
    "        return 1\n",
    "    print(n)\n",
    "    print('-'*5)\n",
    "    return n * factorial(n-1)"
   ]
  },
  {
   "cell_type": "code",
   "execution_count": 113,
   "metadata": {},
   "outputs": [
    {
     "name": "stdout",
     "output_type": "stream",
     "text": [
      "5\n",
      "-----\n",
      "4\n",
      "-----\n",
      "3\n",
      "-----\n",
      "2\n",
      "-----\n"
     ]
    },
    {
     "data": {
      "text/plain": [
       "120"
      ]
     },
     "execution_count": 113,
     "metadata": {},
     "output_type": "execute_result"
    }
   ],
   "source": [
    "factorial(5)"
   ]
  },
  {
   "cell_type": "code",
   "execution_count": 114,
   "metadata": {},
   "outputs": [],
   "source": [
    "def factoria(n):\n",
    "    if n==1:\n",
    "        return 1\n",
    "    else:\n",
    "        return n * facotrial(n-1)"
   ]
  },
  {
   "cell_type": "code",
   "execution_count": 119,
   "metadata": {},
   "outputs": [
    {
     "name": "stdout",
     "output_type": "stream",
     "text": [
      "120\n"
     ]
    }
   ],
   "source": [
    "respuesta = 1\n",
    "n=5\n",
    "while n>1:\n",
    "    respuesta *= n\n",
    "    n -= 1\n",
    "print(respuesta)"
   ]
  },
  {
   "cell_type": "code",
   "execution_count": 121,
   "metadata": {},
   "outputs": [
    {
     "name": "stdout",
     "output_type": "stream",
     "text": [
      "0 0\n",
      "0 1\n",
      "0 2\n",
      "0 3\n",
      "0 4\n",
      "1 0\n",
      "1 1\n",
      "1 2\n",
      "1 3\n",
      "1 4\n",
      "2 0\n",
      "2 1\n",
      "2 2\n",
      "2 3\n",
      "2 4\n",
      "3 0\n",
      "3 1\n",
      "3 2\n",
      "3 3\n",
      "3 4\n",
      "4 0\n",
      "4 1\n",
      "4 2\n",
      "4 3\n",
      "4 4\n"
     ]
    }
   ],
   "source": [
    "for i in range(5):\n",
    "    for j in range(5):\n",
    "        print(i, j)"
   ]
  },
  {
   "cell_type": "code",
   "execution_count": 128,
   "metadata": {},
   "outputs": [],
   "source": [
    "import random\n",
    "\n",
    "def busqueda_lineal(lista, objetivo):\n",
    "    match = False\n",
    "    \n",
    "    for elemento in lista:\n",
    "        if elemento == objetivo:\n",
    "            match = True\n",
    "            break \n",
    "    return match"
   ]
  },
  {
   "cell_type": "code",
   "execution_count": 129,
   "metadata": {},
   "outputs": [
    {
     "name": "stdout",
     "output_type": "stream",
     "text": [
      "De que tamaño quieres la lista? 10 \n",
      "What number what do you finde? 20\n",
      "[66, 35, 21, 22, 37, 16, 66, 13, 74, 73]\n",
      "-----\n",
      "El numero 20 no esta en la lista\n"
     ]
    }
   ],
   "source": [
    "tamaño = int(input('De que tamaño quieres la lista? '))\n",
    "objetivo = int(input('What number what do you finde? '))\n",
    "\n",
    "lista = [random.randint(0, 100) for i in range(tamaño)]\n",
    "\n",
    "encontrado = busqueda_lineal(lista, objetivo)\n",
    "print(lista)\n",
    "print('-' * 5)\n",
    "print(f'El numero {objetivo} {\"esta\" if encontrado else \"no esta\"} en la lista')"
   ]
  },
  {
   "cell_type": "code",
   "execution_count": 135,
   "metadata": {},
   "outputs": [],
   "source": [
    "import random\n",
    "\n",
    "def busqueda_binaria(lista, comienzo, final, objetivo):\n",
    "    print(f'Buscnado {objetivo} entre {lista[comienzo]} y {lista[final -1]}')\n",
    "    \n",
    "    if comienzo > final:\n",
    "        return False\n",
    "    \n",
    "    medio = (comienzo + final) // 2\n",
    "    \n",
    "    if lista[medio] == objetivo:\n",
    "        return True\n",
    "    elif lista[medio] < objetivo:\n",
    "        return busqueda_binaria(lista, medio+1, final, objetivo)\n",
    "    else:\n",
    "        return busqueda_binaria(lista, comienzo, medio-1, objetivo)"
   ]
  },
  {
   "cell_type": "code",
   "execution_count": 137,
   "metadata": {},
   "outputs": [
    {
     "name": "stdout",
     "output_type": "stream",
     "text": [
      "De que tamaño quieres la lista? 20\n",
      "Que numero quires encontrar? 2\n",
      "Buscnado 2 entre 0 y 20\n",
      "Buscnado 2 entre 0 y 8\n",
      "[0, 1, 1, 2, 2, 4, 8, 8, 8, 9, 12, 13, 13, 13, 14, 18, 18, 19, 20, 20]\n",
      "El elemeto 2 esta en la lista\n"
     ]
    }
   ],
   "source": [
    "tamaño = int(input('De que tamaño quieres la lista? '))\n",
    "objetivo = int(input('Que numero quires encontrar? '))\n",
    "\n",
    "lista = sorted([random.randint(0,20) for i in range(tamaño)])\n",
    "encontrado = busqueda_binaria(lista, 0, len(lista), objetivo)\n",
    "\n",
    "print(lista)\n",
    "print(f'El elemeto {objetivo} {\"esta\" if encontrado else \"no esta\"} en la lista')"
   ]
  },
  {
   "cell_type": "code",
   "execution_count": 139,
   "metadata": {},
   "outputs": [
    {
     "data": {
      "text/plain": [
       "[0, 1, 2, 3, 4]"
      ]
     },
     "execution_count": 139,
     "metadata": {},
     "output_type": "execute_result"
    }
   ],
   "source": [
    "l = list(range(5))\n",
    "l"
   ]
  },
  {
   "cell_type": "code",
   "execution_count": 141,
   "metadata": {},
   "outputs": [
    {
     "data": {
      "text/plain": [
       "5"
      ]
     },
     "execution_count": 141,
     "metadata": {},
     "output_type": "execute_result"
    }
   ],
   "source": [
    "n = len(l)\n",
    "n"
   ]
  },
  {
   "cell_type": "code",
   "execution_count": 154,
   "metadata": {},
   "outputs": [
    {
     "name": "stdout",
     "output_type": "stream",
     "text": [
      "0\n",
      "1\n",
      "2\n",
      "3\n",
      "4\n",
      "0\n",
      "1\n",
      "2\n",
      "3\n",
      "0\n",
      "1\n",
      "2\n",
      "0\n",
      "1\n",
      "0\n"
     ]
    }
   ],
   "source": [
    "for i in range(n):\n",
    "    for j in range(0, n-i):\n",
    "        print(j)"
   ]
  },
  {
   "cell_type": "code",
   "execution_count": 143,
   "metadata": {},
   "outputs": [
    {
     "data": {
      "text/plain": [
       "False"
      ]
     },
     "execution_count": 143,
     "metadata": {},
     "output_type": "execute_result"
    }
   ],
   "source": [
    "l[0] > l[3]"
   ]
  },
  {
   "cell_type": "code",
   "execution_count": 144,
   "metadata": {},
   "outputs": [
    {
     "data": {
      "text/plain": [
       "[0, 1, 2, 3, 4]"
      ]
     },
     "execution_count": 144,
     "metadata": {},
     "output_type": "execute_result"
    }
   ],
   "source": [
    "l"
   ]
  },
  {
   "cell_type": "code",
   "execution_count": 145,
   "metadata": {},
   "outputs": [
    {
     "data": {
      "text/plain": [
       "0"
      ]
     },
     "execution_count": 145,
     "metadata": {},
     "output_type": "execute_result"
    }
   ],
   "source": [
    "l[0]"
   ]
  },
  {
   "cell_type": "code",
   "execution_count": 146,
   "metadata": {},
   "outputs": [
    {
     "data": {
      "text/plain": [
       "1"
      ]
     },
     "execution_count": 146,
     "metadata": {},
     "output_type": "execute_result"
    }
   ],
   "source": [
    "l[0 +1]"
   ]
  },
  {
   "cell_type": "code",
   "execution_count": 147,
   "metadata": {},
   "outputs": [
    {
     "data": {
      "text/plain": [
       "2"
      ]
     },
     "execution_count": 147,
     "metadata": {},
     "output_type": "execute_result"
    }
   ],
   "source": [
    "l[1+1]"
   ]
  },
  {
   "cell_type": "code",
   "execution_count": 148,
   "metadata": {},
   "outputs": [
    {
     "data": {
      "text/plain": [
       "0"
      ]
     },
     "execution_count": 148,
     "metadata": {},
     "output_type": "execute_result"
    }
   ],
   "source": [
    "l[1-1]"
   ]
  },
  {
   "cell_type": "code",
   "execution_count": 149,
   "metadata": {},
   "outputs": [
    {
     "data": {
      "text/plain": [
       "3"
      ]
     },
     "execution_count": 149,
     "metadata": {},
     "output_type": "execute_result"
    }
   ],
   "source": [
    "l[4-1]"
   ]
  },
  {
   "cell_type": "code",
   "execution_count": 151,
   "metadata": {},
   "outputs": [],
   "source": [
    "l[0], l[0+1] = l[0+1], l[0]"
   ]
  },
  {
   "cell_type": "code",
   "execution_count": 152,
   "metadata": {},
   "outputs": [
    {
     "data": {
      "text/plain": [
       "[1, 0, 2, 3, 4]"
      ]
     },
     "execution_count": 152,
     "metadata": {},
     "output_type": "execute_result"
    }
   ],
   "source": [
    "l"
   ]
  },
  {
   "cell_type": "code",
   "execution_count": 155,
   "metadata": {},
   "outputs": [
    {
     "name": "stdout",
     "output_type": "stream",
     "text": [
      "3\n",
      "6\n",
      "4\n",
      "5\n",
      "7\n"
     ]
    }
   ],
   "source": [
    "l = [3,6,4,5,7]\n",
    "for i in l:\n",
    "    print(i)"
   ]
  },
  {
   "cell_type": "code",
   "execution_count": 156,
   "metadata": {},
   "outputs": [],
   "source": [
    "n = len(l)"
   ]
  },
  {
   "cell_type": "code",
   "execution_count": 160,
   "metadata": {},
   "outputs": [
    {
     "name": "stdout",
     "output_type": "stream",
     "text": [
      "3\n",
      "6\n",
      "4\n",
      "5\n",
      "7\n"
     ]
    }
   ],
   "source": [
    "for i in range(n):\n",
    "    print(l[i])"
   ]
  },
  {
   "cell_type": "code",
   "execution_count": 166,
   "metadata": {},
   "outputs": [
    {
     "data": {
      "text/plain": [
       "[4, 6, 5, 9, 2]"
      ]
     },
     "execution_count": 166,
     "metadata": {},
     "output_type": "execute_result"
    }
   ],
   "source": [
    "l = [9,6,4,5,2]\n",
    "for i in range(n):\n",
    "    for j in range(0, n-i-1):\n",
    "        \n",
    "        if l[j] > l[j+i]:\n",
    "            l[j], l[j+1] = l[j+1], l[j]\n",
    "\n",
    "l"
   ]
  },
  {
   "cell_type": "code",
   "execution_count": 171,
   "metadata": {},
   "outputs": [
    {
     "name": "stdout",
     "output_type": "stream",
     "text": [
      "Escoge un entero: 15\n",
      "0\n",
      "1\n",
      "2\n",
      "3\n",
      "15 no tiene una raiz cuadrada exacta\n"
     ]
    }
   ],
   "source": [
    "objetivo = int(input('Escoge un entero: '))\n",
    "\n",
    "respuesta = 0\n",
    "\n",
    "while respuesta**2 < objetivo:\n",
    "    print(respuesta)\n",
    "    respuesta += 1\n",
    "    \n",
    "if respuesta**2 == objetivo:\n",
    "    print(f'la raiz cuadrada de {objetivo} es {respuesta}')\n",
    "else:\n",
    "    print(f'{objetivo} no tiene una raiz cuadrada exacta')\n",
    "          "
   ]
  },
  {
   "cell_type": "code",
   "execution_count": 170,
   "metadata": {},
   "outputs": [
    {
     "name": "stdout",
     "output_type": "stream",
     "text": [
      "par\n",
      "1\n",
      "par\n",
      "3\n",
      "par\n",
      "5\n",
      "par\n",
      "7\n",
      "par\n",
      "9\n"
     ]
    }
   ],
   "source": [
    "for i in range(10):\n",
    "    if i % 2 == 0:\n",
    "        print('par')\n",
    "    else:\n",
    "        print(i)"
   ]
  },
  {
   "cell_type": "code",
   "execution_count": 19,
   "metadata": {},
   "outputs": [],
   "source": [
    "import random\n",
    "\n",
    "def busqueda_binaria(lista, comienzo, final, objetivo):\n",
    "    if comienzo > final:\n",
    "        return False\n",
    "    \n",
    "    medio = (comienzo + final) // 2\n",
    "    \n",
    "    if lista[medio] == objetivo:\n",
    "        return True\n",
    "    elif lista[medio] < objetivo:\n",
    "        return busqueda_binaria(lista, medio +1, final, objetivo)\n",
    "    else:\n",
    "        return busqueda_binaria(lista, comienzo, medio -1, objetivo)\n"
   ]
  },
  {
   "cell_type": "code",
   "execution_count": null,
   "metadata": {},
   "outputs": [],
   "source": [
    "tamaño_lista = int(input('Tamaño de la lista: '))\n",
    "objetivo = int(input('Que número quieres encontrar: '))\n",
    "\n",
    "lista = sorted([random.randint(0,100) for i in range(tamaño_lista)])\n",
    "encontrado = busqueda_binaria(lista, 0, len(lista), objetivo)\n",
    "\n",
    "print(lista)\n",
    "print(f'El elemento {objetivo} {\"esta\" if encontrado else \"no esta\"} en la lista')"
   ]
  },
  {
   "cell_type": "code",
   "execution_count": 3,
   "metadata": {},
   "outputs": [],
   "source": [
    "import random\n",
    "def busqueda_binaria(lista, comienzo, final , objetivo):\n",
    "    if comienzo > final:\n",
    "        return False\n",
    "    \n",
    "    medio = (comienzo + final) // 2\n",
    "    \n",
    "    if lista[medio] == objetivo:\n",
    "        return True\n",
    "    elif lista[medio] < objetivo:\n",
    "        return busqueda_binaria(lista, medio+1, final, objetivo)\n",
    "    else:\n",
    "        return busqueda_binaria(lista, comienzo, medio-1, objetivo)\n",
    "        "
   ]
  },
  {
   "cell_type": "code",
   "execution_count": 6,
   "metadata": {},
   "outputs": [
    {
     "name": "stdout",
     "output_type": "stream",
     "text": [
      "Tamaño de la lista: 20\n",
      "Numero: 2\n",
      "[0, 0, 2, 2, 4, 5, 6, 7, 7, 8, 11, 12, 12, 14, 15, 15, 18, 19, 19, 20]\n",
      "El numero 2 esta en la lista\n"
     ]
    }
   ],
   "source": [
    "tamaño_list = int(input('Tamaño de la lista: '))\n",
    "objetivo = int(input('Numero: '))\n",
    "\n",
    "lista = sorted([random.randint(0,20) for i in range(tamaño_list)])\n",
    "encontrado= busqueda_binaria(lista, 0, len(lista), objetivo)\n",
    "\n",
    "print(lista)\n",
    "print(f'El numero {objetivo} {\"esta\" if encontrado else \"no esta\"} en la lista')"
   ]
  },
  {
   "cell_type": "code",
   "execution_count": 17,
   "metadata": {},
   "outputs": [
    {
     "data": {
      "text/plain": [
       "False"
      ]
     },
     "execution_count": 17,
     "metadata": {},
     "output_type": "execute_result"
    }
   ],
   "source": [
    "encontrado"
   ]
  },
  {
   "cell_type": "code",
   "execution_count": 14,
   "metadata": {},
   "outputs": [
    {
     "name": "stdout",
     "output_type": "stream",
     "text": [
      "De que tamaño es la lista? 20\n",
      "Que número quieres encontrar? 2\n",
      "buscando 2 entre 0 y 19\n",
      "buscando 2 entre 0 y 12\n",
      "buscando 2 entre 0 y 5\n",
      "[0, 2, 5, 6, 7, 7, 8, 9, 12, 12, 12, 13, 14, 15, 15, 16, 16, 16, 18, 19]\n",
      "El elemento 2 está en la lista\n"
     ]
    }
   ],
   "source": [
    "def busqueda_binaria(lista, comienzo, final, objeitvo):\n",
    "    print(f'buscando {objetivo} entre {lista[comienzo]} y {lista[final - 1]}') # Restamos 1 porque en python se empieza por 0\n",
    "    if comienzo > final:\n",
    "        return False\n",
    "    \n",
    "    medio = (comienzo + final ) // 2\n",
    "    \n",
    "    if lista[medio] == objetivo:\n",
    "        return True\n",
    "    elif lista[medio] < objetivo:\n",
    "        return busqueda_binaria(lista, medio +1, final, objetivo)\n",
    "    else:\n",
    "        return busqueda_binaria(lista, comienzo, medio -1, objetivo)\n",
    "    \n",
    "tamaño_de_lista = int(input('De que tamaño es la lista? '))\n",
    "objetivo = int(input('Que número quieres encontrar? '))\n",
    "\n",
    "lista = sorted([random.randint(0,20) for i in range(tamaño_de_lista)])\n",
    "encontrado = busqueda_binaria(lista, 0, len(lista), objetivo)\n",
    "\n",
    "print(lista)\n",
    "print(f'El elemento {objetivo} {\"está\" if encontrado else \"no está\"} en la lista')"
   ]
  },
  {
   "cell_type": "code",
   "execution_count": 12,
   "metadata": {},
   "outputs": [],
   "source": [
    "def ordenamiento_burbuja(lista):\n",
    "    n = len(lista)-1\n",
    "    \n",
    "    for i in range(n):\n",
    "        for j in range(0, n-i):\n",
    "            if lista[j] > lista[j+1]:\n",
    "                lista[j], lista[j+1] = lista[j+1], lista[j]\n",
    "    \n",
    "    return lista"
   ]
  },
  {
   "cell_type": "code",
   "execution_count": 13,
   "metadata": {},
   "outputs": [
    {
     "name": "stdout",
     "output_type": "stream",
     "text": [
      "Tamaño de la lista: 20\n",
      "[1, 54, 75, 68, 56, 20, 24, 57, 73, 81, 31, 71, 56, 63, 93, 3, 10, 48, 7, 34]\n",
      "[1, 3, 7, 10, 20, 24, 31, 34, 48, 54, 56, 56, 57, 63, 68, 71, 73, 75, 81, 93]\n"
     ]
    }
   ],
   "source": [
    "tamaño_lista = int(input('Tamaño de la lista: '))\n",
    "\n",
    "lista = [random.randint(0,100) for i in range(tamaño_lista)]\n",
    "print(lista)\n",
    "\n",
    "lista_ordenada = ordenamiento_burbuja(lista)\n",
    "print(lista_ordenada)"
   ]
  },
  {
   "cell_type": "code",
   "execution_count": 14,
   "metadata": {},
   "outputs": [
    {
     "data": {
      "text/plain": [
       "20"
      ]
     },
     "execution_count": 14,
     "metadata": {},
     "output_type": "execute_result"
    }
   ],
   "source": [
    "len(lista)"
   ]
  },
  {
   "cell_type": "code",
   "execution_count": 22,
   "metadata": {},
   "outputs": [],
   "source": [
    "def ordenamiento(lista):\n",
    "    n = len(lista) -1\n",
    "    for i in range(n):\n",
    "        print(i)\n",
    "        for j in range(0, n-1):\n",
    "            print(j)"
   ]
  },
  {
   "cell_type": "code",
   "execution_count": 23,
   "metadata": {},
   "outputs": [
    {
     "name": "stdout",
     "output_type": "stream",
     "text": [
      "Tamaño de la lista: 5\n",
      "[71, 68, 87, 99, 40]\n",
      "0\n",
      "0\n",
      "1\n",
      "2\n",
      "1\n",
      "0\n",
      "1\n",
      "2\n",
      "2\n",
      "0\n",
      "1\n",
      "2\n",
      "3\n",
      "0\n",
      "1\n",
      "2\n"
     ]
    }
   ],
   "source": [
    "tamaño_lista = int(input('Tamaño de la lista: '))\n",
    "lista = [random.randint(0,100) for i in range(tamaño_lista)]\n",
    "print(lista)\n",
    "\n",
    "ordenamiento(lista)"
   ]
  },
  {
   "cell_type": "code",
   "execution_count": 24,
   "metadata": {},
   "outputs": [],
   "source": [
    "valores = ['as','1','2','3','4','5','6','7','8','9','10','j','q','k']\n",
    "palos = ['corazon', 'trebol', 'pica', 'rombo']"
   ]
  },
  {
   "cell_type": "code",
   "execution_count": 28,
   "metadata": {},
   "outputs": [],
   "source": [
    "baraja = []\n",
    "for i in palos:\n",
    "    for j in valores:\n",
    "        baraja.append(i+j)\n"
   ]
  },
  {
   "cell_type": "code",
   "execution_count": 29,
   "metadata": {},
   "outputs": [
    {
     "data": {
      "text/plain": [
       "['corazonas',\n",
       " 'corazon1',\n",
       " 'corazon2',\n",
       " 'corazon3',\n",
       " 'corazon4',\n",
       " 'corazon5',\n",
       " 'corazon6',\n",
       " 'corazon7',\n",
       " 'corazon8',\n",
       " 'corazon9',\n",
       " 'corazon10',\n",
       " 'corazonj',\n",
       " 'corazonq',\n",
       " 'corazonk',\n",
       " 'trebolas',\n",
       " 'trebol1',\n",
       " 'trebol2',\n",
       " 'trebol3',\n",
       " 'trebol4',\n",
       " 'trebol5',\n",
       " 'trebol6',\n",
       " 'trebol7',\n",
       " 'trebol8',\n",
       " 'trebol9',\n",
       " 'trebol10',\n",
       " 'trebolj',\n",
       " 'trebolq',\n",
       " 'trebolk',\n",
       " 'picaas',\n",
       " 'pica1',\n",
       " 'pica2',\n",
       " 'pica3',\n",
       " 'pica4',\n",
       " 'pica5',\n",
       " 'pica6',\n",
       " 'pica7',\n",
       " 'pica8',\n",
       " 'pica9',\n",
       " 'pica10',\n",
       " 'picaj',\n",
       " 'picaq',\n",
       " 'picak',\n",
       " 'romboas',\n",
       " 'rombo1',\n",
       " 'rombo2',\n",
       " 'rombo3',\n",
       " 'rombo4',\n",
       " 'rombo5',\n",
       " 'rombo6',\n",
       " 'rombo7',\n",
       " 'rombo8',\n",
       " 'rombo9',\n",
       " 'rombo10',\n",
       " 'romboj',\n",
       " 'romboq',\n",
       " 'rombok']"
      ]
     },
     "execution_count": 29,
     "metadata": {},
     "output_type": "execute_result"
    }
   ],
   "source": [
    "baraja"
   ]
  },
  {
   "cell_type": "code",
   "execution_count": 33,
   "metadata": {},
   "outputs": [
    {
     "name": "stdout",
     "output_type": "stream",
     "text": [
      "Introduce tu email:luifer@\n",
      "El email es correcto\n"
     ]
    }
   ],
   "source": [
    "email = False\n",
    "mi_email = input('Introduce tu email:')\n",
    "\n",
    "for i in mi_email:\n",
    "    if i == '@':\n",
    "        email = True\n",
    "        break\n",
    "        \n",
    "\n",
    "if email:\n",
    "    print('El email es correcto')\n",
    "else:\n",
    "    print('El email no es correcto')"
   ]
  },
  {
   "cell_type": "code",
   "execution_count": 36,
   "metadata": {},
   "outputs": [
    {
     "name": "stdout",
     "output_type": "stream",
     "text": [
      "Introduce el número de renglones: 4\n",
      "*\n",
      "**\n",
      "***\n",
      "****\n"
     ]
    }
   ],
   "source": [
    "numero = int(input('Introduce el número de renglones: '))\n",
    "\n",
    "for i in range(numero):\n",
    "    for j in range(i+1):\n",
    "        print('*', end='')\n",
    "    print('')"
   ]
  },
  {
   "cell_type": "code",
   "execution_count": 43,
   "metadata": {},
   "outputs": [
    {
     "name": "stdout",
     "output_type": "stream",
     "text": [
      "1\n",
      "1\n",
      "1\n",
      "0\n",
      "2\n",
      "2\n",
      "2\n",
      "1\n",
      "3\n",
      "3\n",
      "3\n",
      "2\n",
      "4\n",
      "4\n",
      "4\n",
      "3\n",
      "5\n",
      "5\n",
      "5\n",
      "4\n"
     ]
    }
   ],
   "source": [
    "for i in range(5):\n",
    "    \n",
    "    for j in range(3):\n",
    "        print(i+1)\n",
    "    print(i)"
   ]
  },
  {
   "cell_type": "code",
   "execution_count": 1,
   "metadata": {},
   "outputs": [],
   "source": [
    "import random \n",
    "lista = []\n",
    "for i in range(20):\n",
    "    lista.append(random.randint(0,40))\n",
    "    \n",
    "lista = sorted(lista)"
   ]
  },
  {
   "cell_type": "code",
   "execution_count": 2,
   "metadata": {},
   "outputs": [
    {
     "data": {
      "text/plain": [
       "[1, 3, 4, 7, 8, 13, 15, 15, 17, 17, 18, 21, 23, 24, 24, 27, 28, 33, 33, 39]"
      ]
     },
     "execution_count": 2,
     "metadata": {},
     "output_type": "execute_result"
    }
   ],
   "source": [
    "lista "
   ]
  },
  {
   "cell_type": "code",
   "execution_count": 6,
   "metadata": {},
   "outputs": [],
   "source": [
    "def binary(lista,num, low, high):\n",
    "\n",
    "    \n",
    "    if low > high:\n",
    "        return False\n",
    "    \n",
    "    mid = (low + high)//2\n",
    "    \n",
    "    if lista[mid] == num:\n",
    "        return True\n",
    "    elif lista[mid] > num:\n",
    "        return binary(lista,num, low, mid-1)\n",
    "    else:\n",
    "        return binary(lista,num, mid+1, high)\n"
   ]
  },
  {
   "cell_type": "code",
   "execution_count": 8,
   "metadata": {},
   "outputs": [
    {
     "name": "stdout",
     "output_type": "stream",
     "text": [
      "Elige un número: 7\n",
      "El número está en la lista\n"
     ]
    }
   ],
   "source": [
    "num = int(input('Elige un número: '))\n",
    "result = binary(lista, num,0, len(lista))\n",
    "\n",
    "if result == True:\n",
    "    print('El número está en la lista')\n",
    "else:\n",
    "    print('El numero no está en la lista')"
   ]
  },
  {
   "cell_type": "markdown",
   "metadata": {},
   "source": []
  }
 ],
 "metadata": {
  "kernelspec": {
   "display_name": "Python 3",
   "language": "python",
   "name": "python3"
  },
  "language_info": {
   "codemirror_mode": {
    "name": "ipython",
    "version": 3
   },
   "file_extension": ".py",
   "mimetype": "text/x-python",
   "name": "python",
   "nbconvert_exporter": "python",
   "pygments_lexer": "ipython3",
   "version": "3.7.4"
  }
 },
 "nbformat": 4,
 "nbformat_minor": 2
}
