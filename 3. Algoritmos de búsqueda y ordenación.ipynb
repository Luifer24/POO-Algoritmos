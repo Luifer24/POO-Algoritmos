{
 "cells": [
  {
   "cell_type": "markdown",
   "metadata": {},
   "source": [
    "# Búsqueda lineal\n",
    "- Busca en todos los elementos de manera secuencial.\n",
    "- ¿Cuál es el peor caso?"
   ]
  },
  {
   "cell_type": "code",
   "execution_count": 10,
   "metadata": {},
   "outputs": [],
   "source": [
    "import random\n",
    "\n",
    "def busqueda_lineal(lista, objetivo):\n",
    "    match = False\n",
    "    \n",
    "    for elemento in lista: # Cuando un for loop de tamaño de un input, etnoces tenemos un O(n)\n",
    "        if elemento == objetivo:\n",
    "            match = True\n",
    "            break\n",
    "    \n",
    "    return match"
   ]
  },
  {
   "cell_type": "code",
   "execution_count": 9,
   "metadata": {},
   "outputs": [
    {
     "name": "stdout",
     "output_type": "stream",
     "text": [
      "De que tamaño será la lista? 10\n",
      "Que número quieres encontrar? 23\n",
      "[26, 82, 13, 25, 85, 74, 4, 77, 34, 78]\n",
      "El elemento 23 no esta en la lista\n"
     ]
    }
   ],
   "source": [
    "tamaño_de_lista = int(input('De que tamaño será la lista? '))\n",
    "objetivo = int(input('Que número quieres encontrar? '))\n",
    "\n",
    "lista = [random.randint(0,100) for i in range(tamaño_de_lista)]\n",
    "\n",
    "encontrado = busqueda_lineal(lista, objetivo)\n",
    "print(lista)\n",
    "print(f'El elemento {objetivo} {\"esta\" if encontrado else \"no esta\"} en la lista')"
   ]
  },
  {
   "cell_type": "markdown",
   "metadata": {},
   "source": [
    "# Búsqueda binaria\n",
    "- Los algoritmos de búsqueda binaria asumen que la lista está ordenada\n",
    "- Divide y conquista\n",
    "- El problema se divide en 2 en cada iteración.\n",
    "- ¿Cuál es el peor caso?"
   ]
  },
  {
   "cell_type": "markdown",
   "metadata": {},
   "source": [
    "Búsqueda binaria con inplementación recursiva"
   ]
  },
  {
   "cell_type": "code",
   "execution_count": 22,
   "metadata": {},
   "outputs": [],
   "source": [
    "import random\n",
    "\n",
    "def busqueda_binaria(lista, comienzo, final, objeitvo):\n",
    "    print(f'buscando {objetivo} entre {lista[comienzo]} y {lista[final - 1]}') # Restamos 1 porque en python se empieza por 0\n",
    "    if comienzo > final:\n",
    "        return False\n",
    "    \n",
    "    medio = (comienzo + final ) // 2\n",
    "    \n",
    "    if lista[medio] == objetivo:\n",
    "        return True\n",
    "    elif lista[medio] < objetivo:\n",
    "        return busqueda_binaria(lista, medio +1, final, objetivo)\n",
    "    else:\n",
    "        return busqueda_binaria(lista, comienzo, medio -1, objetivo)"
   ]
  },
  {
   "cell_type": "code",
   "execution_count": 26,
   "metadata": {},
   "outputs": [
    {
     "name": "stdout",
     "output_type": "stream",
     "text": [
      "De que tamaño es la lista? 100\n",
      "Que número quieres encontrar? 23\n",
      "buscando 23 entre 1 y 99\n",
      "buscando 23 entre 1 y 62\n",
      "buscando 23 entre 1 y 34\n",
      "buscando 23 entre 17 y 34\n",
      "[1, 1, 2, 8, 10, 11, 11, 12, 15, 15, 16, 17, 17, 17, 17, 19, 22, 23, 24, 27, 33, 34, 34, 35, 36, 36, 37, 37, 38, 41, 41, 44, 44, 44, 45, 46, 47, 47, 47, 48, 49, 50, 55, 57, 58, 60, 61, 62, 62, 64, 64, 65, 66, 67, 67, 68, 69, 70, 71, 71, 72, 72, 73, 73, 75, 76, 77, 77, 77, 77, 78, 78, 79, 80, 80, 81, 81, 81, 81, 83, 83, 85, 86, 86, 86, 86, 86, 87, 89, 90, 90, 91, 91, 92, 94, 94, 97, 97, 99, 99]\n",
      "El elemento 23 está en la lista\n"
     ]
    }
   ],
   "source": [
    "tamaño_de_lista = int(input('De que tamaño es la lista? '))\n",
    "objetivo = int(input('Que número quieres encontrar? '))\n",
    "\n",
    "lista = sorted([random.randint(0,100) for i in range(tamaño_de_lista)])\n",
    "encontrado = busqueda_binaria(lista, 0, len(lista), objetivo)\n",
    "\n",
    "print(lista)\n",
    "print(f'El elemento {objetivo} {\"está\" if encontrado else \"no está\"} en la lista')"
   ]
  },
  {
   "cell_type": "markdown",
   "metadata": {},
   "source": [
    "# Ordenamiento de burbuja\n",
    "\n",
    "El ordenamiento de burbuja es un algoritmo que recorre repetidamente una lista que necesita ordenarse. Compara elementos adyacentes y los intercambia si están en el orden incorrecto. Este procedimiento se repite hasta que no se requiere más intercambios, lo que indica que la lista se enctuentra ordenada"
   ]
  },
  {
   "cell_type": "code",
   "execution_count": 1,
   "metadata": {},
   "outputs": [],
   "source": [
    "import random \n",
    "\n",
    "def ordenamiento_de_burbuja(lista):\n",
    "    n = len(lista)\n",
    "    \n",
    "    for i in range(n):\n",
    "        for j in range(0, n-i-1): # O(n) * O(n) = O(n * n) = O(n**2)\n",
    "            \n",
    "            if lista[j] > lista[j+1]:\n",
    "                lista[j], lista[j+1] = lista[j+1], lista[j]\n",
    "                \n",
    "    return lista"
   ]
  },
  {
   "cell_type": "code",
   "execution_count": 2,
   "metadata": {},
   "outputs": [
    {
     "name": "stdout",
     "output_type": "stream",
     "text": [
      "De que tamaño sera la lista? 20\n",
      "[94, 43, 100, 85, 82, 33, 21, 52, 59, 26, 50, 92, 67, 88, 67, 83, 4, 55, 36, 96]\n",
      "[4, 21, 26, 33, 36, 43, 50, 52, 55, 59, 67, 67, 82, 83, 85, 88, 92, 94, 96, 100]\n"
     ]
    }
   ],
   "source": [
    "tamaño_de_lista = int(input('De que tamaño sera la lista? '))\n",
    "\n",
    "lista = [random.randint(0,100) for i in range(tamaño_de_lista)]\n",
    "print(lista)\n",
    "\n",
    "lista_ordenada = ordenamiento_de_burbuja(lista)\n",
    "print(lista_ordenada)"
   ]
  },
  {
   "cell_type": "markdown",
   "metadata": {},
   "source": [
    "# Ordenamiento por inserción"
   ]
  },
  {
   "cell_type": "code",
   "execution_count": null,
   "metadata": {},
   "outputs": [],
   "source": []
  },
  {
   "cell_type": "markdown",
   "metadata": {},
   "source": [
    "# Ordenamiento por mezcla \n",
    "El ordenamiento por mezcla es un algoritmo de divide y conquista. Primero divide una lista en partes iguales hasta que quedan sublistas de 1 o 0 elementos. Luego las recombina en forma ordenada."
   ]
  },
  {
   "cell_type": "code",
   "execution_count": null,
   "metadata": {},
   "outputs": [],
   "source": [
    "import random \n",
    "\n",
    "def ordenamiento_por_mezcla(lista):\n",
    "    if len(lista)>1:\n",
    "        medio = len(lista // 2)\n",
    "        iquierda = lista[:medio]\n",
    "        derecha = lista[medio:]\n",
    "        \n",
    "        # llamada recursiva en cada mitad\n",
    "        ordenamiento_por_mezcla(izquierda)\n",
    "        ordenamiento_por_mezcla(derecha)\n",
    "        \n",
    "        # Iteradores para recorrer las dos sublistas\n",
    "        i = 0\n",
    "        j = 0\n",
    "        \n",
    "        # Iterador para la lista principal\n",
    "        k = 0\n",
    "        "
   ]
  }
 ],
 "metadata": {
  "kernelspec": {
   "display_name": "Python 3",
   "language": "python",
   "name": "python3"
  },
  "language_info": {
   "codemirror_mode": {
    "name": "ipython",
    "version": 3
   },
   "file_extension": ".py",
   "mimetype": "text/x-python",
   "name": "python",
   "nbconvert_exporter": "python",
   "pygments_lexer": "ipython3",
   "version": "3.7.4"
  }
 },
 "nbformat": 4,
 "nbformat_minor": 2
}
