{
 "cells": [
  {
   "cell_type": "markdown",
   "metadata": {},
   "source": [
    "# ¿Por qué graficar?\n",
    "- Reconocimiento de patrones\n",
    "- Predicción de una seria\n",
    "- Simplificar la interpretación y las conclusiones acerca de los datos"
   ]
  },
  {
   "cell_type": "markdown",
   "metadata": {},
   "source": [
    "# Graficado simple\n",
    "- Bokeh permite construir gráficas complejas de manera rápida y con comandos simples.\n",
    "- Permite exportar a varios formatos como html, notebooks, imagenes, etc.\n",
    "- Bokeh se puede utilizar en el servidor con flask y Django"
   ]
  },
  {
   "cell_type": "code",
   "execution_count": 2,
   "metadata": {},
   "outputs": [],
   "source": [
    "from bokeh.plotting import figure, output_file, show"
   ]
  },
  {
   "cell_type": "code",
   "execution_count": 3,
   "metadata": {},
   "outputs": [
    {
     "name": "stdout",
     "output_type": "stream",
     "text": [
      "Cuantos valores quieres graficar? 5\n",
      "Valor y para 0 1\n",
      "Valor y para 1 2\n",
      "Valor y para 2 1\n",
      "Valor y para 3 2\n",
      "Valor y para 4 1\n"
     ]
    }
   ],
   "source": [
    "output_file('graficado_simpe.html')\n",
    "fig = figure()\n",
    "\n",
    "total_vals = int(input('Cuantos valores quieres graficar? '))\n",
    "x_vals = list(range(total_vals))\n",
    "y_vals = []\n",
    "\n",
    "for x in x_vals:\n",
    "    val = int(input(f'Valor y para {x} '))\n",
    "    y_vals.append(val)\n",
    "\n",
    "fig.line(x_vals, y_vals, line_width = 2)\n",
    "show(fig)"
   ]
  },
  {
   "cell_type": "code",
   "execution_count": null,
   "metadata": {},
   "outputs": [],
   "source": []
  }
 ],
 "metadata": {
  "kernelspec": {
   "display_name": "Python 3",
   "language": "python",
   "name": "python3"
  },
  "language_info": {
   "codemirror_mode": {
    "name": "ipython",
    "version": 3
   },
   "file_extension": ".py",
   "mimetype": "text/x-python",
   "name": "python",
   "nbconvert_exporter": "python",
   "pygments_lexer": "ipython3",
   "version": "3.7.4"
  }
 },
 "nbformat": 4,
 "nbformat_minor": 2
}
