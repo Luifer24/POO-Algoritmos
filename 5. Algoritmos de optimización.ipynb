{
 "cells": [
  {
   "cell_type": "markdown",
   "metadata": {},
   "source": [
    "# Introducción a la optimización\n",
    "- El concepto de optimización permite resolver muchos problemas de manera computacional.\n",
    "- Una función objetivo que debemos maximizar o minimizar.\n",
    "- Una serie de limitantes que debemos respetar."
   ]
  },
  {
   "cell_type": "markdown",
   "metadata": {},
   "source": [
    "# El problema de la mochila"
   ]
  },
  {
   "cell_type": "code",
   "execution_count": 4,
   "metadata": {},
   "outputs": [],
   "source": [
    "def mochila(peso_mochila, pesos, valores, n):\n",
    "    \n",
    "    if n == 0 or peso_mochila == 0:\n",
    "        return 0\n",
    "    \n",
    "    if pesos[n - 1] > peso_mochila:\n",
    "        return mochila(peso_mochila, pesos, valores, n-1)\n",
    "    \n",
    "    return max(valores[n-1] + mochila(peso_mochila - pesos[n-1], pesos, valores, n-1),\n",
    "               mochila(peso_mochila, pesos, valores, n-1))"
   ]
  },
  {
   "cell_type": "code",
   "execution_count": 5,
   "metadata": {},
   "outputs": [],
   "source": [
    "valores = [60, 100, 120]\n",
    "pesos = [10, 20, 30]\n",
    "peso_mochila = 50\n",
    "n = len(valores)"
   ]
  },
  {
   "cell_type": "code",
   "execution_count": 6,
   "metadata": {},
   "outputs": [
    {
     "name": "stdout",
     "output_type": "stream",
     "text": [
      "220\n"
     ]
    }
   ],
   "source": [
    "resultado = mochila(peso_mochila, pesos, valores, n)\n",
    "print(resultado)"
   ]
  },
  {
   "cell_type": "markdown",
   "metadata": {},
   "source": [
    "# Conclusines\n",
    "- Los tipos abstactos (clases) permiten crear programas poderosos que modelan al mundo.\n",
    "- Podemos medir la eficiencia de diveros algoritmos\n",
    "- Las gráficas nos permiten encontrar patrones rápidamente.\n",
    "- Optimización \n",
    "- Pensamiento computacional dearrollado:\n",
    "    - Decomposición\n",
    "    - Abstracció\n",
    "    - Reconocimiento de patrones\n",
    "    - Diseño de algoritmos"
   ]
  },
  {
   "cell_type": "code",
   "execution_count": null,
   "metadata": {},
   "outputs": [],
   "source": []
  }
 ],
 "metadata": {
  "kernelspec": {
   "display_name": "Python 3",
   "language": "python",
   "name": "python3"
  },
  "language_info": {
   "codemirror_mode": {
    "name": "ipython",
    "version": 3
   },
   "file_extension": ".py",
   "mimetype": "text/x-python",
   "name": "python",
   "nbconvert_exporter": "python",
   "pygments_lexer": "ipython3",
   "version": "3.7.4"
  }
 },
 "nbformat": 4,
 "nbformat_minor": 2
}
