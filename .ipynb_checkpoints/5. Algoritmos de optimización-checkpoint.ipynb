{
 "cells": [
  {
   "cell_type": "markdown",
   "metadata": {},
   "source": [
    "# Introducción a la optimización\n",
    "- El concepto de optimización permite resolver muchos problemas de manera computacional.\n",
    "- Una función objetivo que debemos maximizar o minimizar.\n",
    "- Una serie de limitantes que debemos respetar."
   ]
  },
  {
   "cell_type": "markdown",
   "metadata": {},
   "source": [
    "# El problema de la mochila"
   ]
  },
  {
   "cell_type": "code",
   "execution_count": 1,
   "metadata": {},
   "outputs": [],
   "source": [
    "def mochila(peso_mochila, pesos, valores, n):\n",
    "    \n",
    "    if n == 0 or peso_mochila == 0:\n",
    "        return 0\n",
    "    \n",
    "    if pesos[n - 1] > peso_mochila:\n",
    "        return mochila(peso_mochila, pesos, valores, n-1)\n",
    "    \n",
    "    return max(valores[n-1] + mochila(peso_mochila - pesos[n-1], pesos, valores, mochila(peso_mochila, pesos, valores, n-1)))"
   ]
  },
  {
   "cell_type": "code",
   "execution_count": 2,
   "metadata": {},
   "outputs": [],
   "source": [
    "valores = [60, 100, 120]\n",
    "pesos = [10, 20, 30]\n",
    "peso_mochila = 50\n",
    "n = len(valores)"
   ]
  },
  {
   "cell_type": "raw",
   "metadata": {},
   "source": []
  }
 ],
 "metadata": {
  "kernelspec": {
   "display_name": "Python 3",
   "language": "python",
   "name": "python3"
  },
  "language_info": {
   "codemirror_mode": {
    "name": "ipython",
    "version": 3
   },
   "file_extension": ".py",
   "mimetype": "text/x-python",
   "name": "python",
   "nbconvert_exporter": "python",
   "pygments_lexer": "ipython3",
   "version": "3.7.4"
  }
 },
 "nbformat": 4,
 "nbformat_minor": 2
}
