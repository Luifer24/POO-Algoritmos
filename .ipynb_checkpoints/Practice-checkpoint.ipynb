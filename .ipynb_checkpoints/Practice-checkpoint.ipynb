{
 "cells": [
  {
   "cell_type": "code",
   "execution_count": 8,
   "metadata": {},
   "outputs": [],
   "source": [
    "class Persona:\n",
    "    \n",
    "    def __init__(self, nombre, edad):\n",
    "        self.nombre = nombre\n",
    "        self.edad = edad\n",
    "        \n",
    "    def saluda(self, otra_persona):\n",
    "        return f'Hola {otra_persona.nombre} me llamo {self.nombre}'"
   ]
  },
  {
   "cell_type": "code",
   "execution_count": 9,
   "metadata": {},
   "outputs": [],
   "source": [
    "luifer = Persona('luifer', 25)\n",
    "larisa = Persona('larisa', 21)"
   ]
  },
  {
   "cell_type": "code",
   "execution_count": 10,
   "metadata": {},
   "outputs": [
    {
     "data": {
      "text/plain": [
       "25"
      ]
     },
     "execution_count": 10,
     "metadata": {},
     "output_type": "execute_result"
    }
   ],
   "source": [
    "luifer.edad"
   ]
  },
  {
   "cell_type": "code",
   "execution_count": 11,
   "metadata": {},
   "outputs": [
    {
     "data": {
      "text/plain": [
       "21"
      ]
     },
     "execution_count": 11,
     "metadata": {},
     "output_type": "execute_result"
    }
   ],
   "source": [
    "larisa.edad"
   ]
  },
  {
   "cell_type": "code",
   "execution_count": 12,
   "metadata": {},
   "outputs": [
    {
     "data": {
      "text/plain": [
       "'Hola larisa me llamo luifer'"
      ]
     },
     "execution_count": 12,
     "metadata": {},
     "output_type": "execute_result"
    }
   ],
   "source": [
    "luifer.saluda(larisa)"
   ]
  },
  {
   "cell_type": "code",
   "execution_count": 13,
   "metadata": {},
   "outputs": [],
   "source": [
    "class Persona:\n",
    "    \n",
    "    def __init__(self, nombre, edad):\n",
    "        self.nombre = nombre\n",
    "        self.edad = edad\n",
    "        \n",
    "    def saludar(self, otra_pesona):\n",
    "        return f'Hola {otra_persona.nombre} me llamo {self.nombre}'"
   ]
  },
  {
   "cell_type": "code",
   "execution_count": 14,
   "metadata": {},
   "outputs": [],
   "source": [
    "lufer = Persona('luifer', 25)\n",
    "larisa = Persona('Larisa', 21)"
   ]
  },
  {
   "cell_type": "code",
   "execution_count": 15,
   "metadata": {},
   "outputs": [
    {
     "data": {
      "text/plain": [
       "25"
      ]
     },
     "execution_count": 15,
     "metadata": {},
     "output_type": "execute_result"
    }
   ],
   "source": [
    "luifer.edad"
   ]
  },
  {
   "cell_type": "code",
   "execution_count": 16,
   "metadata": {},
   "outputs": [
    {
     "data": {
      "text/plain": [
       "'luifer'"
      ]
     },
     "execution_count": 16,
     "metadata": {},
     "output_type": "execute_result"
    }
   ],
   "source": [
    "luifer.nombre"
   ]
  },
  {
   "cell_type": "code",
   "execution_count": 17,
   "metadata": {},
   "outputs": [
    {
     "data": {
      "text/plain": [
       "'Hola Larisa me llamo luifer'"
      ]
     },
     "execution_count": 17,
     "metadata": {},
     "output_type": "execute_result"
    }
   ],
   "source": [
    "luifer.saluda(larisa)"
   ]
  },
  {
   "cell_type": "code",
   "execution_count": 25,
   "metadata": {},
   "outputs": [],
   "source": [
    "class Coordenada:\n",
    "    \n",
    "    def __init__(self, x, y):\n",
    "        self.x = x\n",
    "        self.y = y\n",
    "        \n",
    "    def distancia(self, otra_coordenada):\n",
    "        x_diff = (self.x - otra_coordenada.x)**2\n",
    "        y_diff = (self.y - otra_coordenada.y)**2\n",
    "        \n",
    "        return (x_diff + y_diff)** 0.5"
   ]
  },
  {
   "cell_type": "code",
   "execution_count": 26,
   "metadata": {},
   "outputs": [],
   "source": [
    "cord1 = Coordenada(3,4)\n",
    "cord2 = Coordenada(2,6)"
   ]
  },
  {
   "cell_type": "code",
   "execution_count": 27,
   "metadata": {},
   "outputs": [
    {
     "data": {
      "text/plain": [
       "2.23606797749979"
      ]
     },
     "execution_count": 27,
     "metadata": {},
     "output_type": "execute_result"
    }
   ],
   "source": [
    "cord1.distancia(cord2)"
   ]
  },
  {
   "cell_type": "code",
   "execution_count": 28,
   "metadata": {},
   "outputs": [],
   "source": [
    "def suma(a,b):\n",
    "    return a+b"
   ]
  },
  {
   "cell_type": "code",
   "execution_count": 29,
   "metadata": {},
   "outputs": [
    {
     "data": {
      "text/plain": [
       "5"
      ]
     },
     "execution_count": 29,
     "metadata": {},
     "output_type": "execute_result"
    }
   ],
   "source": [
    "suma(2,3)"
   ]
  },
  {
   "cell_type": "code",
   "execution_count": 30,
   "metadata": {},
   "outputs": [
    {
     "data": {
      "text/plain": [
       "3"
      ]
     },
     "execution_count": 30,
     "metadata": {},
     "output_type": "execute_result"
    }
   ],
   "source": [
    "cord1.x"
   ]
  },
  {
   "cell_type": "code",
   "execution_count": 31,
   "metadata": {},
   "outputs": [
    {
     "data": {
      "text/plain": [
       "4"
      ]
     },
     "execution_count": 31,
     "metadata": {},
     "output_type": "execute_result"
    }
   ],
   "source": [
    "cord1.y"
   ]
  },
  {
   "cell_type": "code",
   "execution_count": 32,
   "metadata": {},
   "outputs": [
    {
     "data": {
      "text/plain": [
       "2"
      ]
     },
     "execution_count": 32,
     "metadata": {},
     "output_type": "execute_result"
    }
   ],
   "source": [
    "cord2.x"
   ]
  },
  {
   "cell_type": "code",
   "execution_count": 33,
   "metadata": {},
   "outputs": [
    {
     "data": {
      "text/plain": [
       "6"
      ]
     },
     "execution_count": 33,
     "metadata": {},
     "output_type": "execute_result"
    }
   ],
   "source": [
    "cord2.y"
   ]
  },
  {
   "cell_type": "code",
   "execution_count": 34,
   "metadata": {},
   "outputs": [],
   "source": [
    "class Coodenadas:\n",
    "    \n",
    "    def __init__(self, x, y):\n",
    "        self.x = x\n",
    "        self.y = y\n",
    "        \n",
    "    def distancia(self, otra_coordenada):\n",
    "        x_diff = (self.x - otra_coordenada.x)**2\n",
    "        y_diff = (self.y - otra_coordenada.y)**2\n",
    "        \n",
    "        return (x_diff + y_diff)**0.5"
   ]
  },
  {
   "cell_type": "code",
   "execution_count": 35,
   "metadata": {},
   "outputs": [],
   "source": [
    "cord1 = Coordenada(3,7)\n",
    "cord2 = Coordenada(5,8)"
   ]
  },
  {
   "cell_type": "code",
   "execution_count": 36,
   "metadata": {},
   "outputs": [
    {
     "data": {
      "text/plain": [
       "3"
      ]
     },
     "execution_count": 36,
     "metadata": {},
     "output_type": "execute_result"
    }
   ],
   "source": [
    "cord1.x"
   ]
  },
  {
   "cell_type": "code",
   "execution_count": 37,
   "metadata": {},
   "outputs": [
    {
     "data": {
      "text/plain": [
       "7"
      ]
     },
     "execution_count": 37,
     "metadata": {},
     "output_type": "execute_result"
    }
   ],
   "source": [
    "cord1.y"
   ]
  },
  {
   "cell_type": "code",
   "execution_count": 38,
   "metadata": {},
   "outputs": [
    {
     "data": {
      "text/plain": [
       "2.23606797749979"
      ]
     },
     "execution_count": 38,
     "metadata": {},
     "output_type": "execute_result"
    }
   ],
   "source": [
    "cord1.distancia(cord2)"
   ]
  },
  {
   "cell_type": "code",
   "execution_count": 39,
   "metadata": {},
   "outputs": [],
   "source": [
    "class Automovil:\n",
    "    \n",
    "    def __init__(self, modelo, marca, color):\n",
    "        self.modelo = modelo\n",
    "        self.marca = marca\n",
    "        self.color = color\n",
    "        self._estado = 'en_reposo'\n",
    "        self._motor = Motor(cilindros=4)\n",
    "        \n",
    "    def acelerar(self, tipo='despacio'):\n",
    "        if tipo == 'rapida':\n",
    "            self._motor.inyectar_gasolina(10)\n",
    "        else:\n",
    "            self._motor.inyectar_gasolina(3)\n",
    "            \n",
    "        self._estado = 'en_movimiento'\n",
    "        \n",
    "class Motor:\n",
    "    \n",
    "    def __init__(self, cilindros, tipo='gasolina'):\n",
    "        self.cilindros = cilindros\n",
    "        self.tipo = tipo\n",
    "        self._temperatura = 0\n",
    "    \n",
    "    def inyectar_gasolina(self, cantidad):\n",
    "        pass"
   ]
  },
  {
   "cell_type": "code",
   "execution_count": 40,
   "metadata": {},
   "outputs": [],
   "source": [
    "coche = Automovil('mustang', 'ford', 'negro')"
   ]
  },
  {
   "cell_type": "code",
   "execution_count": 41,
   "metadata": {},
   "outputs": [
    {
     "data": {
      "text/plain": [
       "'mustang'"
      ]
     },
     "execution_count": 41,
     "metadata": {},
     "output_type": "execute_result"
    }
   ],
   "source": [
    "coche.modelo"
   ]
  },
  {
   "cell_type": "code",
   "execution_count": 45,
   "metadata": {},
   "outputs": [
    {
     "ename": "AttributeError",
     "evalue": "'function' object has no attribute 'tipo'",
     "output_type": "error",
     "traceback": [
      "\u001b[1;31m---------------------------------------------------------------------------\u001b[0m",
      "\u001b[1;31mAttributeError\u001b[0m                            Traceback (most recent call last)",
      "\u001b[1;32m<ipython-input-45-db7702ec0d06>\u001b[0m in \u001b[0;36m<module>\u001b[1;34m\u001b[0m\n\u001b[1;32m----> 1\u001b[1;33m \u001b[0mcoche\u001b[0m\u001b[1;33m.\u001b[0m\u001b[0macelerar\u001b[0m\u001b[1;33m.\u001b[0m\u001b[0mtipo\u001b[0m\u001b[1;33m\u001b[0m\u001b[1;33m\u001b[0m\u001b[0m\n\u001b[0m",
      "\u001b[1;31mAttributeError\u001b[0m: 'function' object has no attribute 'tipo'"
     ]
    }
   ],
   "source": [
    "coche.acelerar.tipo"
   ]
  },
  {
   "cell_type": "code",
   "execution_count": 46,
   "metadata": {},
   "outputs": [],
   "source": [
    "class Lavadora:\n",
    "    \n",
    "    def __init__(self):\n",
    "        pass\n",
    "    \n",
    "    def lavar(self, temperatura='caliente'):\n",
    "        self._llenar_tanque_de_agua(temperatura)\n",
    "        self._añadir_jabon()\n",
    "        self._lavar()\n",
    "        self._centrifugar()\n",
    "        \n",
    "    def _llenar_tanque_de_agua(self, temperatura):\n",
    "        print(f'Llenando el tanque con agua {temperatura}')\n",
    "        \n",
    "    def _añadir_jabon(self):\n",
    "        print('Añadir jabon')\n",
    "    \n",
    "    def _lavar(self):\n",
    "        print('Lavando la ropa')\n",
    "    \n",
    "    def _centrifugar(self):\n",
    "        print('Centrifugando la ropa')"
   ]
  },
  {
   "cell_type": "code",
   "execution_count": 47,
   "metadata": {},
   "outputs": [],
   "source": [
    "lavadora = Lavadora()"
   ]
  },
  {
   "cell_type": "code",
   "execution_count": 48,
   "metadata": {},
   "outputs": [
    {
     "name": "stdout",
     "output_type": "stream",
     "text": [
      "Llenando el tanque con agua caliente\n",
      "Añadir jabon\n",
      "Lavando la ropa\n",
      "Centrifugando la ropa\n"
     ]
    }
   ],
   "source": [
    "lavadora.lavar()"
   ]
  },
  {
   "cell_type": "code",
   "execution_count": 49,
   "metadata": {},
   "outputs": [],
   "source": [
    "class Lavadora:\n",
    "    def __init__(self):\n",
    "        pass\n",
    "    \n",
    "    def lavar(self, temperatura):\n",
    "        self.temperatura = temperatura\n",
    "        self._llenar_tanque_de_agua(temperatura)\n",
    "        self._añadir_jabon()\n",
    "        self._lavar()\n",
    "        self._centrifugar()\n",
    "        \n",
    "    def _llenar_tanque_de_agua(self, temperatura):\n",
    "        print(f'Llenando el tanque con agua {temperatura}')\n",
    "    \n",
    "    def _añadir_jabon(self):\n",
    "        print('añdiendo jabon')\n",
    "        \n",
    "    def _lavar(self):\n",
    "        print('Lavando la ropa')\n",
    "    \n",
    "    def _centrifugar(self):\n",
    "        print('Centrifugando la ropa')"
   ]
  },
  {
   "cell_type": "code",
   "execution_count": 50,
   "metadata": {},
   "outputs": [],
   "source": [
    "lavadora = Lavadora()"
   ]
  },
  {
   "cell_type": "code",
   "execution_count": 51,
   "metadata": {},
   "outputs": [
    {
     "name": "stdout",
     "output_type": "stream",
     "text": [
      "Llenando el tanque con agua fria\n",
      "añdiendo jabon\n",
      "Lavando la ropa\n",
      "Centrifugando la ropa\n"
     ]
    }
   ],
   "source": [
    "lavadora.lavar('fria')"
   ]
  },
  {
   "cell_type": "code",
   "execution_count": 52,
   "metadata": {},
   "outputs": [
    {
     "name": "stdout",
     "output_type": "stream",
     "text": [
      "Llenando el tanque con agua templada\n",
      "añdiendo jabon\n",
      "Lavando la ropa\n",
      "Centrifugando la ropa\n"
     ]
    }
   ],
   "source": [
    "lavadora.lavar('templada')"
   ]
  },
  {
   "cell_type": "code",
   "execution_count": 55,
   "metadata": {},
   "outputs": [
    {
     "name": "stdout",
     "output_type": "stream",
     "text": [
      "Llenando el tanque con agua caliente\n",
      "añdiendo jabon\n",
      "Lavando la ropa\n",
      "Centrifugando la ropa\n"
     ]
    }
   ],
   "source": [
    "lavadora.lavar('caliente')"
   ]
  },
  {
   "cell_type": "code",
   "execution_count": 67,
   "metadata": {},
   "outputs": [],
   "source": [
    "class Rectangulo:\n",
    "    \n",
    "    def __init__(self, base, altura):\n",
    "        self.base = base\n",
    "        self.altura = altura\n",
    "    \n",
    "    def area(self):\n",
    "        return self.base * self.altura\n",
    "\n",
    "class Cuadrado(Rectangulo):\n",
    "    \n",
    "    def __init__(self, lado):\n",
    "        self.lado = lado\n",
    "        super().__init__(lado, lado)"
   ]
  },
  {
   "cell_type": "code",
   "execution_count": 57,
   "metadata": {},
   "outputs": [],
   "source": [
    "rectangulo = Rectangulo(2, 5)"
   ]
  },
  {
   "cell_type": "code",
   "execution_count": 58,
   "metadata": {},
   "outputs": [
    {
     "data": {
      "text/plain": [
       "2"
      ]
     },
     "execution_count": 58,
     "metadata": {},
     "output_type": "execute_result"
    }
   ],
   "source": [
    "rectangulo.base"
   ]
  },
  {
   "cell_type": "code",
   "execution_count": 59,
   "metadata": {},
   "outputs": [
    {
     "data": {
      "text/plain": [
       "5"
      ]
     },
     "execution_count": 59,
     "metadata": {},
     "output_type": "execute_result"
    }
   ],
   "source": [
    "rectangulo.altura"
   ]
  },
  {
   "cell_type": "code",
   "execution_count": 61,
   "metadata": {},
   "outputs": [
    {
     "data": {
      "text/plain": [
       "10"
      ]
     },
     "execution_count": 61,
     "metadata": {},
     "output_type": "execute_result"
    }
   ],
   "source": [
    "rectangulo.area()"
   ]
  },
  {
   "cell_type": "code",
   "execution_count": 68,
   "metadata": {},
   "outputs": [],
   "source": [
    "cuadrado = Cuadrado(5)"
   ]
  },
  {
   "cell_type": "code",
   "execution_count": 69,
   "metadata": {},
   "outputs": [
    {
     "data": {
      "text/plain": [
       "5"
      ]
     },
     "execution_count": 69,
     "metadata": {},
     "output_type": "execute_result"
    }
   ],
   "source": [
    "cuadrado.lado"
   ]
  },
  {
   "cell_type": "code",
   "execution_count": 70,
   "metadata": {},
   "outputs": [
    {
     "data": {
      "text/plain": [
       "25"
      ]
     },
     "execution_count": 70,
     "metadata": {},
     "output_type": "execute_result"
    }
   ],
   "source": [
    "cuadrado.area()"
   ]
  },
  {
   "cell_type": "code",
   "execution_count": 76,
   "metadata": {},
   "outputs": [],
   "source": [
    "class Persona:\n",
    "    \n",
    "    def __init__(self, nombre):\n",
    "        self.nombre = nombre\n",
    "        \n",
    "    def avanza(self):\n",
    "        print('Ando caminando')\n",
    "        \n",
    "class Ciclista(Persona):\n",
    "     \n",
    "    def __init__(self, nombre):\n",
    "        super().__init__(nombre)\n",
    "        \n",
    "    def avanza(self):\n",
    "        print('Ando moviendome en bicicleta')"
   ]
  },
  {
   "cell_type": "code",
   "execution_count": 81,
   "metadata": {},
   "outputs": [],
   "source": [
    "persona = Persona('luifer')"
   ]
  },
  {
   "cell_type": "code",
   "execution_count": 77,
   "metadata": {},
   "outputs": [],
   "source": [
    "ciclista = Ciclista('kobe')"
   ]
  },
  {
   "cell_type": "code",
   "execution_count": 78,
   "metadata": {},
   "outputs": [
    {
     "data": {
      "text/plain": [
       "'luifer'"
      ]
     },
     "execution_count": 78,
     "metadata": {},
     "output_type": "execute_result"
    }
   ],
   "source": [
    "perosna.nombre"
   ]
  },
  {
   "cell_type": "code",
   "execution_count": 79,
   "metadata": {},
   "outputs": [
    {
     "data": {
      "text/plain": [
       "'kobe'"
      ]
     },
     "execution_count": 79,
     "metadata": {},
     "output_type": "execute_result"
    }
   ],
   "source": [
    "ciclista.nombre"
   ]
  },
  {
   "cell_type": "code",
   "execution_count": 82,
   "metadata": {},
   "outputs": [
    {
     "name": "stdout",
     "output_type": "stream",
     "text": [
      "Ando caminando\n"
     ]
    }
   ],
   "source": [
    "persona.avanza()"
   ]
  },
  {
   "cell_type": "code",
   "execution_count": 83,
   "metadata": {},
   "outputs": [
    {
     "name": "stdout",
     "output_type": "stream",
     "text": [
      "Ando moviendome en bicicleta\n"
     ]
    }
   ],
   "source": [
    "ciclista.avanza()"
   ]
  },
  {
   "cell_type": "code",
   "execution_count": 89,
   "metadata": {},
   "outputs": [],
   "source": [
    "def factorial(n):\n",
    "    respuesta=1\n",
    "    \n",
    "    while n > 1:\n",
    "        print(n)\n",
    "        respuesta *= n\n",
    "        print(respuesta)\n",
    "        n -= 1\n",
    "        print(n)\n",
    "        print('-'* 5)"
   ]
  },
  {
   "cell_type": "code",
   "execution_count": 90,
   "metadata": {},
   "outputs": [
    {
     "name": "stdout",
     "output_type": "stream",
     "text": [
      "4\n",
      "4\n",
      "3\n",
      "-----\n",
      "3\n",
      "12\n",
      "2\n",
      "-----\n",
      "2\n",
      "24\n",
      "1\n",
      "-----\n"
     ]
    }
   ],
   "source": [
    "factorial(4)"
   ]
  },
  {
   "cell_type": "code",
   "execution_count": 93,
   "metadata": {},
   "outputs": [
    {
     "name": "stdout",
     "output_type": "stream",
     "text": [
      "4\n",
      "12\n",
      "24\n"
     ]
    }
   ],
   "source": [
    "respuesta = 1\n",
    "n = 4\n",
    "while n > 1:\n",
    "    respuesta *= n\n",
    "    n -= 1\n",
    "    print(respuesta)"
   ]
  },
  {
   "cell_type": "code",
   "execution_count": 112,
   "metadata": {},
   "outputs": [],
   "source": [
    "def factorial(n):\n",
    "    if n==1:\n",
    "        return 1\n",
    "    print(n)\n",
    "    print('-'*5)\n",
    "    return n * factorial(n-1)"
   ]
  },
  {
   "cell_type": "code",
   "execution_count": 113,
   "metadata": {},
   "outputs": [
    {
     "name": "stdout",
     "output_type": "stream",
     "text": [
      "5\n",
      "-----\n",
      "4\n",
      "-----\n",
      "3\n",
      "-----\n",
      "2\n",
      "-----\n"
     ]
    },
    {
     "data": {
      "text/plain": [
       "120"
      ]
     },
     "execution_count": 113,
     "metadata": {},
     "output_type": "execute_result"
    }
   ],
   "source": [
    "factorial(5)"
   ]
  },
  {
   "cell_type": "code",
   "execution_count": 114,
   "metadata": {},
   "outputs": [],
   "source": [
    "def factoria(n):\n",
    "    if n==1:\n",
    "        return 1\n",
    "    else:\n",
    "        return n * facotrial(n-1)"
   ]
  },
  {
   "cell_type": "raw",
   "metadata": {},
   "source": []
  }
 ],
 "metadata": {
  "kernelspec": {
   "display_name": "Python 3",
   "language": "python",
   "name": "python3"
  },
  "language_info": {
   "codemirror_mode": {
    "name": "ipython",
    "version": 3
   },
   "file_extension": ".py",
   "mimetype": "text/x-python",
   "name": "python",
   "nbconvert_exporter": "python",
   "pygments_lexer": "ipython3",
   "version": "3.7.4"
  }
 },
 "nbformat": 4,
 "nbformat_minor": 2
}
