{
 "cells": [
  {
   "cell_type": "markdown",
   "metadata": {},
   "source": [
    "# Introducción a la complejidad algorítmica\n",
    "- ¿Por qué comparamos la eficiencia de una algoritmo?\n",
    "- Complejidad temporal vs complejidad espacial\n",
    "- Pdemos definir como T(n)"
   ]
  },
  {
   "cell_type": "markdown",
   "metadata": {},
   "source": [
    "Conometrar el tiempo en el que corre un algoritmo"
   ]
  },
  {
   "cell_type": "code",
   "execution_count": 1,
   "metadata": {},
   "outputs": [],
   "source": [
    "import time\n",
    "\n",
    "def factorial(n):\n",
    "    respuesta = 1\n",
    "    \n",
    "    while n > 1:\n",
    "        respuesta *= n\n",
    "        n -= 1\n",
    "    return respuesta\n",
    "\n",
    "def factorial_r(n):\n",
    "    if n == 1:\n",
    "        return q\n",
    "    return n * factorial(n-1)"
   ]
  },
  {
   "cell_type": "code",
   "execution_count": 2,
   "metadata": {},
   "outputs": [
    {
     "name": "stdout",
     "output_type": "stream",
     "text": [
      "10.268925905227661\n"
     ]
    }
   ],
   "source": [
    "n = 200000\n",
    "comienzo = time.time()\n",
    "factorial(n)\n",
    "final = time.time()\n",
    "print(final - comienzo)"
   ]
  },
  {
   "cell_type": "code",
   "execution_count": 3,
   "metadata": {},
   "outputs": [
    {
     "name": "stdout",
     "output_type": "stream",
     "text": [
      "10.292622566223145\n"
     ]
    }
   ],
   "source": [
    "comienzo = time.time()\n",
    "factorial_r(n)\n",
    "final = time.time()\n",
    "print(final - comienzo)"
   ]
  },
  {
   "cell_type": "markdown",
   "metadata": {},
   "source": [
    "# Conteo abstracto de operación\n",
    "- Contar los pasos con una medida abstracta de operación"
   ]
  },
  {
   "cell_type": "code",
   "execution_count": null,
   "metadata": {},
   "outputs": [],
   "source": []
  },
  {
   "cell_type": "markdown",
   "metadata": {},
   "source": [
    "# Notación asintótica\n",
    "Contar los pasos conforme nos aproximamos al infinito"
   ]
  },
  {
   "cell_type": "code",
   "execution_count": null,
   "metadata": {},
   "outputs": [],
   "source": []
  },
  {
   "cell_type": "markdown",
   "metadata": {},
   "source": [
    "# Clases de complejidad algorítmica\n",
    "- O(1) Constante\n",
    "- O(n) Lineal\n",
    "- O(log n) Logarítmica\n",
    "- O(n log n) log lineal\n",
    "- O(n**2) Polinomial\n",
    "- O(2**n) Exponencial"
   ]
  },
  {
   "cell_type": "code",
   "execution_count": null,
   "metadata": {},
   "outputs": [],
   "source": []
  }
 ],
 "metadata": {
  "kernelspec": {
   "display_name": "Python 3",
   "language": "python",
   "name": "python3"
  },
  "language_info": {
   "codemirror_mode": {
    "name": "ipython",
    "version": 3
   },
   "file_extension": ".py",
   "mimetype": "text/x-python",
   "name": "python",
   "nbconvert_exporter": "python",
   "pygments_lexer": "ipython3",
   "version": "3.7.4"
  }
 },
 "nbformat": 4,
 "nbformat_minor": 2
}
